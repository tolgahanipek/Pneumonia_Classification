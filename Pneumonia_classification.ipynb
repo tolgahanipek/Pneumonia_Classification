{
  "nbformat": 4,
  "nbformat_minor": 0,
  "metadata": {
    "colab": {
      "name": "Derin Öğrenme Final Ödevi-Tolgahan İpek-170205068.ipynb",
      "provenance": [],
      "collapsed_sections": []
    },
    "kernelspec": {
      "name": "python3",
      "display_name": "Python 3"
    },
    "language_info": {
      "name": "python"
    }
  },
  "cells": [
    {
      "cell_type": "markdown",
      "metadata": {
        "id": "iBGjDpTtk4dj"
      },
      "source": [
        "1.CNN MODELİ-ALEXNET İLE ÇÖZÜMÜ"
      ]
    },
    {
      "cell_type": "code",
      "metadata": {
        "id": "68vr7lBX_h4R"
      },
      "source": [
        "import numpy as np # matrissel işlemler yapmak için bu kütüphaneyi çağırdım.\n",
        "import os # bir takım dosya okuma işlemleri için veya dosyalardan ilgili sınıfların sample sayısını hesaplatmak için bu kütüphaneyi çağırdım.\n",
        "import random # random işlemler yapmak için bu kütüphaneyi çağırdım.\n",
        "import matplotlib.pyplot as plt #Veriye ait grafik çizdirmek için bu kütüphaneyi çağırdım.\n",
        "\n",
        "\n",
        "from keras.models import Sequential # Modeli sequential yani sıralı hale getirmek  veya stack haline getirmek için bu kütüphaneyi çağırdım.\n",
        "from keras.layers.core import Dense, Flatten, Dropout # Modelin overfitting olmasını önlemek ve model katmanlarını tanımlamak için çağrılan kütüphane\n",
        "from keras.layers import Conv2D,MaxPooling2D, ZeroPadding2D # modele ait konvolüsyon ağı oluşturmak,overfitting i engellemek,katman hacmini düşürmek için tanımlanan kütüphane\n",
        "from keras.preprocessing.image import ImageDataGenerator # Veri setinde train verisinden yüzde 10 nunu validasyon verisine ayırmak ve ölçekleme yapmak için tanımlanan kütüphane\n",
        "\n",
        "from keras.utils import np_utils # karmaşıklık matrisinin grafiği için tanımlanan kütüphane\n",
        "import itertools #karmaşık yineleyiciler üretmek için kullanılan kütüphane\n"
      ],
      "execution_count": null,
      "outputs": []
    },
    {
      "cell_type": "code",
      "metadata": {
        "colab": {
          "base_uri": "https://localhost:8080/"
        },
        "id": "RbNxfanjjTBw",
        "outputId": "af95ac97-2436-4dd9-8f26-a91d9274e3ac"
      },
      "source": [
        "from google.colab import drive #drive ile bağlantı kurmak için tanımlanan kütüphane.\n",
        "drive.mount(\"/content/drive\") # drive a bağlanmak için onay kodu alındı."
      ],
      "execution_count": null,
      "outputs": [
        {
          "output_type": "stream",
          "text": [
            "Drive already mounted at /content/drive; to attempt to forcibly remount, call drive.mount(\"/content/drive\", force_remount=True).\n"
          ],
          "name": "stdout"
        }
      ]
    },
    {
      "cell_type": "code",
      "metadata": {
        "id": "t1gn0pA-jaMj"
      },
      "source": [
        "trainPath=\"./drive/MyDrive/veri_seti_final/train/\" # chest xray veya diğer adıyla final_veri_setinden train verisetinin url si verildi.\n",
        "testPath=\"./drive/MyDrive/veri_seti_final/test/\" # chest xray veya diğer adıyla final_veri_setinden test verisetinin url si verildi."
      ],
      "execution_count": null,
      "outputs": []
    },
    {
      "cell_type": "code",
      "metadata": {
        "colab": {
          "base_uri": "https://localhost:8080/"
        },
        "id": "DSl9AmnOjzL_",
        "outputId": "1faa50aa-e03a-4fb7-ee8d-cde16b017147"
      },
      "source": [
        "trainDataGen=ImageDataGenerator( # veriyi düzenleme işlemi yapıldı\n",
        "    rescale=1./255, # veri ölçekleme işlemi yapıldı\n",
        "    validation_split=0.1 # train verisinden yüzde 10 luk kısmı validasyon olarak ayarlandı.\n",
        ")\n",
        "\n",
        "testDataGen=ImageDataGenerator(rescale=1./255) # test veri seti yeniden ölçeklendi.\n",
        "trainGen=trainDataGen.flow_from_directory( \n",
        "    trainPath,\n",
        "    target_size=(227,227), #veriyi okurken ölçeklendiriyor.\n",
        "    color_mode='rgb', #renk modunu red green blue olarak ayarladım.\n",
        "    class_mode='categorical', # sınıflandırma boyutunu kategori olarak belirledim.\n",
        "    batch_size=32, #yığın boyutunu 32 olarak ayarladım.\n",
        "    subset='training' #subset olarak training verisi olarak belirledim.\n",
        ")\n",
        "\n",
        "valGen=trainDataGen.flow_from_directory( # valgen için veri düzenlemesi yapıldı.\n",
        "    trainPath, # valgen in train verisinden bilgi alacağı belirtildi.\n",
        "    target_size=(227,227), #veriyi okurken ölçeklendiriyor.\n",
        "    color_mode='rgb', #renk modunu red green blue olarak ayarladım.\n",
        "    class_mode='categorical', # sınıflandırma boyutunu kategori olarak belirledim.\n",
        "    batch_size=32, #yığın boyutunu 32 olarak ayarladım.\n",
        "    subset='validation') #subset olarak training verisi olarak belirledim.\n",
        "\n",
        "testGen=testDataGen.flow_from_directory(\n",
        "    testPath,  # testGen in test verisinden bilgi alacağı belirtildi.\n",
        "    target_size=(227,227), #veriyi okurken ölçeklendiriyor.\n",
        "    color_mode='rgb', #renk modunu red green blue olarak ayarladım.\n",
        "    class_mode='categorical', # sınıflandırma boyutunu kategori olarak belirledim.\n",
        "    batch_size=1) #yığın boyutunu 1 olarak ayarladım.\n"
      ],
      "execution_count": null,
      "outputs": [
        {
          "output_type": "stream",
          "text": [
            "Found 4711 images belonging to 3 classes.\n",
            "Found 521 images belonging to 3 classes.\n",
            "Found 624 images belonging to 3 classes.\n"
          ],
          "name": "stdout"
        }
      ]
    },
    {
      "cell_type": "code",
      "metadata": {
        "id": "X7lPqaslzBtj",
        "colab": {
          "base_uri": "https://localhost:8080/"
        },
        "outputId": "91239e71-75d0-41c5-ea7c-1390716f03a1"
      },
      "source": [
        "list_normal = os.listdir(\"./drive/MyDrive/veri_seti_final/train/normal\") # train verisindeki normal klasöründe bulunan sample sayısını buldurmak için url verdim.\n",
        "normal = len(list_normal) # normal klasörünün toplam sample sayısını buldurdum.\n",
        "print (\"TRAİN DOSYASINDAKİ TOPLAM NORMAL SAMPLE SAYISI:\",normal) # ekrana normal sample sayısını yazdırdım.\n",
        "\n",
        "list_bakteriyel = os.listdir(\"./drive/MyDrive/veri_seti_final/train/bakteriyel_pneumonia\") # train verisindeki bakteriyel_pneumonia klasöründe bulunan sample sayısını buldurmak için url verdim.\n",
        "bakteriyel = len(list_bakteriyel) # bakteri klasörünün toplam sample sayısını buldurdum.\n",
        "print (\"TRAİN DOSYASINDAKİ TOPLAM BAKTERİYEL PNEUMONIA SAMPLE SAYISI:\",bakteriyel)  # ekrana bakteri sample sayısını yazdırdım.\n",
        "\n",
        "list_viral = os.listdir(\"./drive/MyDrive/veri_seti_final/train/viral_pneumonia\") # train verisindeki virüs veya viral_pneumonia klasöründe bulunan sample sayısını buldurmak için url verdim.\n",
        "viral = len(list_viral)  # viral(virüs) klasörünün toplam sample sayısını buldurdum.\n",
        "print (\"TRAİN DOSYASINDAKİ TOPLAM VİRAL PNEUMONIA SAMPLE SAYISI:\",viral)  # ekrana viral(virüs) sample sayısını yazdırdım.\n",
        "print(\"-----------------\")\n",
        "list_normal = os.listdir(\"./drive/MyDrive/veri_seti_final/test/normal\") # test verisindeki normal klasöründe bulunan sample sayısını buldurmak için url verdim.\n",
        "normal = len(list_normal) # normal klasörünün toplam sample sayısını buldurdum.\n",
        "print (\"TEST DOSYASINDAKİ TOPLAM NORMAL SAMPLE SAYISI:\",normal) # ekrana normal sample sayısını yazdırdım.\n",
        "\n",
        "list_bakteriyel = os.listdir(\"./drive/MyDrive/veri_seti_final/test/bakteriyel_pneumonia\") # test verisindeki bakteriyel_pneumonia klasöründe bulunan sample sayısını buldurmak için url verdim.\n",
        "bakteriyel = len(list_bakteriyel)  # bakteri klasörünün toplam sample sayısını buldurdum.\n",
        "print (\"TEST DOSYASINDAKİ TOPLAM BAKTERİYEL PNEUMONIA SAMPLE SAYISI:\",bakteriyel)  # ekrana bakteri sample sayısını yazdırdım.\n",
        "\n",
        "list_viral = os.listdir(\"./drive/MyDrive/veri_seti_final/test/viral_pneumonia\") # test verisindeki virüs veya viral_pneumonia klasöründe bulunan sample sayısını buldurmak için url verdim.\n",
        "viral = len(list_viral) # viral(virüs) klasörünün toplam sample sayısını buldurdum.\n",
        "print (\"TEST DOSYASINDAKİ TOPLAM VİRAL PNEUMONIA SAMPLE SAYISI:\",viral) # ekrana viral(virüs) sample sayısını yazdırdım.\n"
      ],
      "execution_count": null,
      "outputs": [
        {
          "output_type": "stream",
          "text": [
            "TRAİN DOSYASINDAKİ TOPLAM NORMAL SAMPLE SAYISI: 1349\n",
            "TRAİN DOSYASINDAKİ TOPLAM BAKTERİYEL PNEUMONIA SAMPLE SAYISI: 2538\n",
            "TRAİN DOSYASINDAKİ TOPLAM VİRAL PNEUMONIA SAMPLE SAYISI: 1345\n",
            "-----------------\n",
            "TEST DOSYASINDAKİ TOPLAM NORMAL SAMPLE SAYISI: 234\n",
            "TEST DOSYASINDAKİ TOPLAM BAKTERİYEL PNEUMONIA SAMPLE SAYISI: 242\n",
            "TEST DOSYASINDAKİ TOPLAM VİRAL PNEUMONIA SAMPLE SAYISI: 148\n"
          ],
          "name": "stdout"
        }
      ]
    },
    {
      "cell_type": "code",
      "metadata": {
        "colab": {
          "base_uri": "https://localhost:8080/"
        },
        "id": "-qd_CsHRkw7v",
        "outputId": "8d654903-0a16-40f7-d8a1-2255675f3ffa"
      },
      "source": [
        "alexnet=Sequential() #evrişimli sinir ağlarını alexnet modeli üzerinde  birer stack yapısı gibi üst üste ekleme işlemi yapıyor.\n",
        "alexnet.add(Conv2D(96,kernel_size=(11,11),strides=(4,4),activation='relu',input_shape=(227,227,3))) # 1.konvolüsyon ağı belirlendi\n",
        "alexnet.add(MaxPooling2D(pool_size=(3,3),strides=(2,2))) # katman hacmi düşürülmesi için max pooling işlemi yaptım ve kaydırma miktarını 2 olarak belirledim.\n",
        "alexnet.add(ZeroPadding2D((2,2))) #2x2 lik zero padding işlemi yapıldı.\n",
        "alexnet.add(Conv2D(256,kernel_size=(5,5),activation='relu',strides=(1,1))) # 2.konvolüsyon ağı belirlendi\n",
        "alexnet.add(MaxPooling2D(pool_size=(3,3),strides=(2,2))) # katman hacmi düşürülmesi için max pooling işlemi yaptım ve kaydırma miktarını 2 olarak belirledim.\n",
        "alexnet.add(ZeroPadding2D((1,1))) #1x1 lik zero padding işlemi yapıldı.\n",
        "alexnet.add(Conv2D(384,kernel_size=(3,3),activation='relu',strides=(1,1))) # 3.konvolüsyon ağı belirlendi.\n",
        "alexnet.add(ZeroPadding2D((1,1))) #1x1 lik zero padding işlemi yapıldı.\n",
        "alexnet.add(Conv2D(384,kernel_size=(3,3),activation='relu',strides=(1,1))) # 4.konvolüsyon ağı belirlendi.\n",
        "alexnet.add(ZeroPadding2D((1,1))) #1x1 lik zero padding işlemi yapıldı.\n",
        "alexnet.add(Conv2D(256,kernel_size=(3,3),activation='relu',strides=(1,1))) # 5.konvolüsyon ağı belirlendi.\n",
        "alexnet.add(MaxPooling2D(pool_size=(3,3),strides=(2,2))) # katman hacmi düşürülmesi için max pooling işlemi yaptım ve kaydırma miktarını 2 olarak belirledim.\n",
        "alexnet.add(Flatten()) # katmanlar düzleştirildi\n",
        "alexnet.add(Dense(4096,activation='relu')) # 1.FC(FULL CONNECTED ) ağı eklendi.\n",
        "alexnet.add(Dense(2048,activation='relu')) # 2.FC(FULL CONNECTED ) ağı eklendi.\n",
        "alexnet.add(Dense(3,activation='softmax')) # 3.FC(FULL CONNECTED ) ağı eklendi.\n",
        "alexnet.summary() #MODELİN ÖZETİ GÖSTERİLDİ."
      ],
      "execution_count": null,
      "outputs": [
        {
          "output_type": "stream",
          "text": [
            "Model: \"sequential_1\"\n",
            "_________________________________________________________________\n",
            "Layer (type)                 Output Shape              Param #   \n",
            "=================================================================\n",
            "conv2d_5 (Conv2D)            (None, 55, 55, 96)        34944     \n",
            "_________________________________________________________________\n",
            "max_pooling2d_3 (MaxPooling2 (None, 27, 27, 96)        0         \n",
            "_________________________________________________________________\n",
            "zero_padding2d_4 (ZeroPaddin (None, 31, 31, 96)        0         \n",
            "_________________________________________________________________\n",
            "conv2d_6 (Conv2D)            (None, 27, 27, 256)       614656    \n",
            "_________________________________________________________________\n",
            "max_pooling2d_4 (MaxPooling2 (None, 13, 13, 256)       0         \n",
            "_________________________________________________________________\n",
            "zero_padding2d_5 (ZeroPaddin (None, 15, 15, 256)       0         \n",
            "_________________________________________________________________\n",
            "conv2d_7 (Conv2D)            (None, 13, 13, 384)       885120    \n",
            "_________________________________________________________________\n",
            "zero_padding2d_6 (ZeroPaddin (None, 15, 15, 384)       0         \n",
            "_________________________________________________________________\n",
            "conv2d_8 (Conv2D)            (None, 13, 13, 384)       1327488   \n",
            "_________________________________________________________________\n",
            "zero_padding2d_7 (ZeroPaddin (None, 15, 15, 384)       0         \n",
            "_________________________________________________________________\n",
            "conv2d_9 (Conv2D)            (None, 13, 13, 256)       884992    \n",
            "_________________________________________________________________\n",
            "max_pooling2d_5 (MaxPooling2 (None, 6, 6, 256)         0         \n",
            "_________________________________________________________________\n",
            "flatten_3 (Flatten)          (None, 9216)              0         \n",
            "_________________________________________________________________\n",
            "dense_7 (Dense)              (None, 4096)              37752832  \n",
            "_________________________________________________________________\n",
            "dense_8 (Dense)              (None, 2048)              8390656   \n",
            "_________________________________________________________________\n",
            "dense_9 (Dense)              (None, 3)                 6147      \n",
            "=================================================================\n",
            "Total params: 49,896,835\n",
            "Trainable params: 49,896,835\n",
            "Non-trainable params: 0\n",
            "_________________________________________________________________\n"
          ],
          "name": "stdout"
        }
      ]
    },
    {
      "cell_type": "code",
      "metadata": {
        "id": "TeWfEfLtlISt"
      },
      "source": [
        "alexnet.compile(loss=\"categorical_crossentropy\",optimizer=\"adam\", metrics=[\"accuracy\"]) # Alexnet modeli compile edildi. Yani derlendi"
      ],
      "execution_count": null,
      "outputs": []
    },
    {
      "cell_type": "code",
      "metadata": {
        "colab": {
          "base_uri": "https://localhost:8080/"
        },
        "id": "Y_-m_jjolOHg",
        "outputId": "e1e6c848-b291-4026-85db-ced189daec40"
      },
      "source": [
        "history=alexnet.fit( # Train veri seti eğitime tabii tutuldu.\n",
        "    trainGen,\n",
        "    steps_per_epoch=trainGen.samples//32,\n",
        "    validation_data=valGen,\n",
        "    epochs=10,\n",
        "    validation_steps=valGen.samples//32\n",
        ")"
      ],
      "execution_count": null,
      "outputs": [
        {
          "output_type": "stream",
          "text": [
            "Epoch 1/10\n",
            "147/147 [==============================] - 59s 393ms/step - loss: 2.0809 - accuracy: 0.4873 - val_loss: 1.0141 - val_accuracy: 0.5332\n",
            "Epoch 2/10\n",
            "147/147 [==============================] - 56s 379ms/step - loss: 0.7943 - accuracy: 0.6511 - val_loss: 0.5697 - val_accuracy: 0.8027\n",
            "Epoch 3/10\n",
            "147/147 [==============================] - 56s 383ms/step - loss: 0.6179 - accuracy: 0.7273 - val_loss: 0.5860 - val_accuracy: 0.7832\n",
            "Epoch 4/10\n",
            "147/147 [==============================] - 56s 383ms/step - loss: 0.5300 - accuracy: 0.7707 - val_loss: 0.5209 - val_accuracy: 0.7910\n",
            "Epoch 5/10\n",
            "147/147 [==============================] - 57s 386ms/step - loss: 0.5228 - accuracy: 0.7715 - val_loss: 0.4493 - val_accuracy: 0.8359\n",
            "Epoch 6/10\n",
            "147/147 [==============================] - 57s 385ms/step - loss: 0.4580 - accuracy: 0.8016 - val_loss: 0.4503 - val_accuracy: 0.8418\n",
            "Epoch 7/10\n",
            "147/147 [==============================] - 57s 386ms/step - loss: 0.4511 - accuracy: 0.8055 - val_loss: 0.4789 - val_accuracy: 0.8379\n",
            "Epoch 8/10\n",
            "147/147 [==============================] - 57s 386ms/step - loss: 0.4540 - accuracy: 0.8012 - val_loss: 0.4961 - val_accuracy: 0.8203\n",
            "Epoch 9/10\n",
            "147/147 [==============================] - 56s 382ms/step - loss: 0.4236 - accuracy: 0.8235 - val_loss: 0.4586 - val_accuracy: 0.8379\n",
            "Epoch 10/10\n",
            "147/147 [==============================] - 56s 381ms/step - loss: 0.3962 - accuracy: 0.8272 - val_loss: 0.3864 - val_accuracy: 0.8418\n"
          ],
          "name": "stdout"
        }
      ]
    },
    {
      "cell_type": "code",
      "metadata": {
        "colab": {
          "base_uri": "https://localhost:8080/",
          "height": 728
        },
        "id": "voWi9AoXPYEi",
        "outputId": "c2252913-8df4-442e-ce27-e840f43b9396"
      },
      "source": [
        "plt.figure(figsize=(10,10)) # train accuracy ve validation accuracy ile train loss ve validation loss  grafiği çizdirildi.\n",
        "plt.subplot(211)\n",
        "plt.title(\"Accuracy\")\n",
        "plt.plot(history.history[\"accuracy\"],color='r',label='train')\n",
        "plt.plot(history.history[\"val_accuracy\"],color='b',label='validation')\n",
        "plt.legend(loc='best')\n",
        "\n",
        "plt.subplot(212)\n",
        "plt.title(\"Loss\")\n",
        "plt.plot(history.history[\"loss\"],color='r',label='train')\n",
        "plt.plot(history.history[\"val_loss\"],color='b',label='validation')\n",
        "plt.legend(loc='best')\n",
        "plt.tight_layout()\n",
        "plt.show()"
      ],
      "execution_count": null,
      "outputs": [
        {
          "output_type": "display_data",
          "data": {
            "image/png": "[encoded data removed]",
            "text/plain": [
              "<Figure size 720x720 with 2 Axes>"
            ]
          },
          "metadata": {
            "tags": [],
            "needs_background": "light"
          }
        }
      ]
    },
    {
      "cell_type": "code",
      "metadata": {
        "colab": {
          "base_uri": "https://localhost:8080/"
        },
        "id": "57R9pAxfPiEY",
        "outputId": "422f1628-8461-4f63-a398-50fada3853a2"
      },
      "source": [
        "print(\"TEST:\") # model test verisiyle test edildi.\n",
        "score=alexnet.evaluate(testGen)\n",
        "print(\"Test Loss\",score[0])\n",
        "print(\"Test Accuracy\",score[1]*100)"
      ],
      "execution_count": null,
      "outputs": [
        {
          "output_type": "stream",
          "text": [
            "TEST:\n",
            "624/624 [==============================] - 8s 12ms/step - loss: 1.2533 - accuracy: 0.7131\n",
            "Test Loss 1.2532739639282227\n",
            "Test Accuracy 71.31410241127014\n"
          ],
          "name": "stdout"
        }
      ]
    },
    {
      "cell_type": "code",
      "metadata": {
        "id": "0ViTT_rHRfve"
      },
      "source": [
        "def plot_confusion_matrix1(cm, classes, normalize=True, title='Confusion matrix', cmap=plt.cm.Blues): # confusion matris işlemleri yapıldı.\n",
        "\n",
        "    plt.figure(figsize=(10,10))\n",
        "\n",
        "    plt.imshow(cm, interpolation='nearest', cmap=cmap)\n",
        "\n",
        "    plt.title(title)\n",
        "\n",
        "    plt.colorbar()\n",
        "\n",
        "    tick_marks = np.arange(len(classes))\n",
        "\n",
        "    plt.xticks(tick_marks, classes, rotation=45)\n",
        "\n",
        "    plt.yticks(tick_marks, classes)\n",
        "\n",
        "    if normalize:\n",
        "\n",
        "        cm = np.around(cm, decimals=2)\n",
        "\n",
        "        cm[np.isnan(cm)] = 0.0\n",
        "\n",
        "        print(\"Normalized confusion matrix\")\n",
        "\n",
        "    else:\n",
        "\n",
        "        print('Confusion matrix, without normalization')\n",
        "\n",
        "    thresh = cm.max() / 2.\n",
        "\n",
        "    for i, j in itertools.product(range(cm.shape[0]), range(cm.shape[1])):\n",
        "\n",
        "        plt.text(j, i, cm[i, j],\n",
        "\n",
        "                 horizontalalignment=\"center\",\n",
        "\n",
        "                 color=\"white\" if cm[i, j] > thresh else \"black\")\n",
        "\n",
        "    plt.tight_layout()\n",
        "\n",
        "    plt.ylabel('True label')\n",
        "\n",
        "    plt.xlabel('Predicted label')"
      ],
      "execution_count": null,
      "outputs": []
    },
    {
      "cell_type": "code",
      "metadata": {
        "colab": {
          "base_uri": "https://localhost:8080/",
          "height": 782
        },
        "id": "RN2Q73NlU7iR",
        "outputId": "d594c88c-cf80-4ca1-c26f-42ddbfcdcea3"
      },
      "source": [
        "target_names = [] # karmaşıklık matrisi oluşturuldu.\n",
        "\n",
        "for key in trainGen.class_indices:\n",
        "\n",
        "    target_names.append(key)\n",
        "\n",
        "Y_pred = alexnet.predict_generator(testGen)\n",
        "\n",
        "y_pred = np.argmax(Y_pred, axis=1)\n",
        "\n",
        "print('Confusion Matrix')\n",
        "\n",
        "cm = confusion_matrix(testGen.classes, y_pred)\n",
        "\n",
        "plot_confusion_matrix1(cm, target_names, title='Confusion Matrix')"
      ],
      "execution_count": null,
      "outputs": [
        {
          "output_type": "stream",
          "text": [
            "/usr/local/lib/python3.7/dist-packages/keras/engine/training.py:1976: UserWarning: `Model.predict_generator` is deprecated and will be removed in a future version. Please use `Model.predict`, which supports generators.\n",
            "  warnings.warn('`Model.predict_generator` is deprecated and '\n"
          ],
          "name": "stderr"
        },
        {
          "output_type": "stream",
          "text": [
            "Confusion Matrix\n",
            "Normalized confusion matrix\n"
          ],
          "name": "stdout"
        },
        {
          "output_type": "display_data",
          "data": {
            "image/png": "[encoded data removed]",
            "text/plain": [
              "<Figure size 720x720 with 2 Axes>"
            ]
          },
          "metadata": {
            "tags": [],
            "needs_background": "light"
          }
        }
      ]
    },
    {
      "cell_type": "code",
      "metadata": {
        "colab": {
          "base_uri": "https://localhost:8080/"
        },
        "id": "4a8MV3GvVyee",
        "outputId": "66de7276-6547-40c1-fb90-d4ec9ca7c6f3"
      },
      "source": [
        "from sklearn.metrics import confusion_matrix\n",
        "from sklearn.metrics import classification_report\n",
        "confusion = confusion_matrix(testGen.classes, y_pred)\n",
        "print('Confusion Matrix\\n')\n",
        "print(confusion)\n",
        "\n",
        "\n",
        "print('Classification Report') # accuracy ,f1 score , recall vb değerler hesaplandı.\n",
        "target_names = ['bakteriyel_pneumonia', 'normal','viral_pneumonia']\n",
        "print(classification_report(testGen.classes, y_pred, target_names=target_names))"
      ],
      "execution_count": null,
      "outputs": [
        {
          "output_type": "stream",
          "text": [
            "Confusion Matrix\n",
            "\n",
            "[[242   0   0]\n",
            " [234   0   0]\n",
            " [148   0   0]]\n",
            "Classification Report\n",
            "                      precision    recall  f1-score   support\n",
            "\n",
            "bakteriyel_pneumonia       0.39      1.00      0.56       242\n",
            "              normal       0.00      0.00      0.00       234\n",
            "     viral_pneumonia       0.00      0.00      0.00       148\n",
            "\n",
            "            accuracy                           0.39       624\n",
            "           macro avg       0.13      0.33      0.19       624\n",
            "        weighted avg       0.15      0.39      0.22       624\n",
            "\n"
          ],
          "name": "stdout"
        },
        {
          "output_type": "stream",
          "text": [
            "/usr/local/lib/python3.7/dist-packages/sklearn/metrics/_classification.py:1272: UndefinedMetricWarning: Precision and F-score are ill-defined and being set to 0.0 in labels with no predicted samples. Use `zero_division` parameter to control this behavior.\n",
            "  _warn_prf(average, modifier, msg_start, len(result))\n"
          ],
          "name": "stderr"
        }
      ]
    },
    {
      "cell_type": "markdown",
      "metadata": {
        "id": "rKLLYoxqBwt6"
      },
      "source": [
        "2.CNN MODELİ VGG16 İLE ÇÖZÜMÜ"
      ]
    },
    {
      "cell_type": "code",
      "metadata": {
        "id": "A17GLHjSCPOU"
      },
      "source": [
        "from keras.models import Sequential,Model\n",
        "from keras.layers.core import Flatten, Dense, Dropout\n",
        "from keras.layers import Conv2D, MaxPooling2D,Input\n",
        "from keras.applications.vgg16 import VGG16\n",
        "from keras.preprocessing.image import ImageDataGenerator\n",
        "import os"
      ],
      "execution_count": null,
      "outputs": []
    },
    {
      "cell_type": "code",
      "metadata": {
        "colab": {
          "base_uri": "https://localhost:8080/"
        },
        "id": "zmmy-W64CcEH",
        "outputId": "1a5a606f-c7a8-4e46-8593-269430268505"
      },
      "source": [
        "base_model=VGG16(input_shape=(224,224,3),include_top=False) # VGG16 ile ilgili işlemler yapıldı.\n",
        "base_model.trainable=False\n",
        "\n",
        "x=Flatten()(base_model.output)\n",
        "x=Dense(1024,activation='relu')(x)\n",
        "out=Dense(3,activation='softmax')(x)\n",
        "model=Model(inputs=base_model.inputs,outputs=out)\n",
        "\n",
        "model.summary()\n",
        "print(len(model.layers))\n",
        "for layer in model.layers:\n",
        "  print(layer.name,\" \",layer.trainable)\n",
        "\n",
        "for layer in model.layers[:10]:\n",
        "  layer.trainable=False"
      ],
      "execution_count": null,
      "outputs": [
        {
          "output_type": "stream",
          "text": [
            "Model: \"model_2\"\n",
            "_________________________________________________________________\n",
            "Layer (type)                 Output Shape              Param #   \n",
            "=================================================================\n",
            "input_3 (InputLayer)         [(None, 224, 224, 3)]     0         \n",
            "_________________________________________________________________\n",
            "block1_conv1 (Conv2D)        (None, 224, 224, 64)      1792      \n",
            "_________________________________________________________________\n",
            "block1_conv2 (Conv2D)        (None, 224, 224, 64)      36928     \n",
            "_________________________________________________________________\n",
            "block1_pool (MaxPooling2D)   (None, 112, 112, 64)      0         \n",
            "_________________________________________________________________\n",
            "block2_conv1 (Conv2D)        (None, 112, 112, 128)     73856     \n",
            "_________________________________________________________________\n",
            "block2_conv2 (Conv2D)        (None, 112, 112, 128)     147584    \n",
            "_________________________________________________________________\n",
            "block2_pool (MaxPooling2D)   (None, 56, 56, 128)       0         \n",
            "_________________________________________________________________\n",
            "block3_conv1 (Conv2D)        (None, 56, 56, 256)       295168    \n",
            "_________________________________________________________________\n",
            "block3_conv2 (Conv2D)        (None, 56, 56, 256)       590080    \n",
            "_________________________________________________________________\n",
            "block3_conv3 (Conv2D)        (None, 56, 56, 256)       590080    \n",
            "_________________________________________________________________\n",
            "block3_pool (MaxPooling2D)   (None, 28, 28, 256)       0         \n",
            "_________________________________________________________________\n",
            "block4_conv1 (Conv2D)        (None, 28, 28, 512)       1180160   \n",
            "_________________________________________________________________\n",
            "block4_conv2 (Conv2D)        (None, 28, 28, 512)       2359808   \n",
            "_________________________________________________________________\n",
            "block4_conv3 (Conv2D)        (None, 28, 28, 512)       2359808   \n",
            "_________________________________________________________________\n",
            "block4_pool (MaxPooling2D)   (None, 14, 14, 512)       0         \n",
            "_________________________________________________________________\n",
            "block5_conv1 (Conv2D)        (None, 14, 14, 512)       2359808   \n",
            "_________________________________________________________________\n",
            "block5_conv2 (Conv2D)        (None, 14, 14, 512)       2359808   \n",
            "_________________________________________________________________\n",
            "block5_conv3 (Conv2D)        (None, 14, 14, 512)       2359808   \n",
            "_________________________________________________________________\n",
            "block5_pool (MaxPooling2D)   (None, 7, 7, 512)         0         \n",
            "_________________________________________________________________\n",
            "flatten_4 (Flatten)          (None, 25088)             0         \n",
            "_________________________________________________________________\n",
            "dense_10 (Dense)             (None, 1024)              25691136  \n",
            "_________________________________________________________________\n",
            "dense_11 (Dense)             (None, 3)                 3075      \n",
            "=================================================================\n",
            "Total params: 40,408,899\n",
            "Trainable params: 25,694,211\n",
            "Non-trainable params: 14,714,688\n",
            "_________________________________________________________________\n",
            "22\n",
            "input_3   False\n",
            "block1_conv1   False\n",
            "block1_conv2   False\n",
            "block1_pool   False\n",
            "block2_conv1   False\n",
            "block2_conv2   False\n",
            "block2_pool   False\n",
            "block3_conv1   False\n",
            "block3_conv2   False\n",
            "block3_conv3   False\n",
            "block3_pool   False\n",
            "block4_conv1   False\n",
            "block4_conv2   False\n",
            "block4_conv3   False\n",
            "block4_pool   False\n",
            "block5_conv1   False\n",
            "block5_conv2   False\n",
            "block5_conv3   False\n",
            "block5_pool   False\n",
            "flatten_4   True\n",
            "dense_10   True\n",
            "dense_11   True\n"
          ],
          "name": "stdout"
        }
      ]
    },
    {
      "cell_type": "code",
      "metadata": {
        "colab": {
          "base_uri": "https://localhost:8080/"
        },
        "id": "Cz9HutM3Ci3b",
        "outputId": "3ff4c270-a637-4d19-feff-eccf39619e47"
      },
      "source": [
        "from google.colab import drive\n",
        "drive.mount(\"/content/drive\")"
      ],
      "execution_count": null,
      "outputs": [
        {
          "output_type": "stream",
          "text": [
            "Drive already mounted at /content/drive; to attempt to forcibly remount, call drive.mount(\"/content/drive\", force_remount=True).\n"
          ],
          "name": "stdout"
        }
      ]
    },
    {
      "cell_type": "code",
      "metadata": {
        "id": "eC9gGIVMC0ZU"
      },
      "source": [
        "trainPath=\"./drive/MyDrive/veri_seti_final/train/\" # chest xray veya diğer adıyla final_veri_setinden train verisetinin url si verildi.\n",
        "testPath=\"./drive/MyDrive/veri_seti_final/test/\" # chest xray veya diğer adıyla final_veri_setinden test verisetinin url si verildi."
      ],
      "execution_count": null,
      "outputs": []
    },
    {
      "cell_type": "code",
      "metadata": {
        "colab": {
          "base_uri": "https://localhost:8080/"
        },
        "id": "spGNXaXpdb99",
        "outputId": "28c0e3b3-282a-426a-c137-b076ef036bc6"
      },
      "source": [
        "list_normal = os.listdir(\"./drive/MyDrive/veri_seti_final/train/normal\") # train verisindeki normal klasöründe bulunan sample sayısını buldurmak için url verdim.\n",
        "normal = len(list_normal) # normal klasörünün toplam sample sayısını buldurdum.\n",
        "print (\"TRAİN DOSYASINDAKİ TOPLAM NORMAL SAMPLE SAYISI:\",normal) # ekrana normal sample sayısını yazdırdım.\n",
        "\n",
        "list_bakteriyel = os.listdir(\"./drive/MyDrive/veri_seti_final/train/bakteriyel_pneumonia\") # train verisindeki bakteriyel_pneumonia klasöründe bulunan sample sayısını buldurmak için url verdim.\n",
        "bakteriyel = len(list_bakteriyel) # bakteri klasörünün toplam sample sayısını buldurdum.\n",
        "print (\"TRAİN DOSYASINDAKİ TOPLAM BAKTERİYEL PNEUMONIA SAMPLE SAYISI:\",bakteriyel)  # ekrana bakteri sample sayısını yazdırdım.\n",
        "\n",
        "list_viral = os.listdir(\"./drive/MyDrive/veri_seti_final/train/viral_pneumonia\") # train verisindeki virüs veya viral_pneumonia klasöründe bulunan sample sayısını buldurmak için url verdim.\n",
        "viral = len(list_viral)  # viral(virüs) klasörünün toplam sample sayısını buldurdum.\n",
        "print (\"TRAİN DOSYASINDAKİ TOPLAM VİRAL PNEUMONIA SAMPLE SAYISI:\",viral)  # ekrana viral(virüs) sample sayısını yazdırdım.\n",
        "print(\"-----------------\")\n",
        "list_normal = os.listdir(\"./drive/MyDrive/veri_seti_final/test/normal\") # test verisindeki normal klasöründe bulunan sample sayısını buldurmak için url verdim.\n",
        "normal = len(list_normal) # normal klasörünün toplam sample sayısını buldurdum.\n",
        "print (\"TEST DOSYASINDAKİ TOPLAM NORMAL SAMPLE SAYISI:\",normal) # ekrana normal sample sayısını yazdırdım.\n",
        "\n",
        "list_bakteriyel = os.listdir(\"./drive/MyDrive/veri_seti_final/test/bakteriyel_pneumonia\") # test verisindeki bakteriyel_pneumonia klasöründe bulunan sample sayısını buldurmak için url verdim.\n",
        "bakteriyel = len(list_bakteriyel)  # bakteri klasörünün toplam sample sayısını buldurdum.\n",
        "print (\"TEST DOSYASINDAKİ TOPLAM BAKTERİYEL PNEUMONIA SAMPLE SAYISI:\",bakteriyel)  # ekrana bakteri sample sayısını yazdırdım.\n",
        "\n",
        "list_viral = os.listdir(\"./drive/MyDrive/veri_seti_final/test/viral_pneumonia\") # test verisindeki virüs veya viral_pneumonia klasöründe bulunan sample sayısını buldurmak için url verdim.\n",
        "viral = len(list_viral) # viral(virüs) klasörünün toplam sample sayısını buldurdum.\n",
        "print (\"TEST DOSYASINDAKİ TOPLAM VİRAL PNEUMONIA SAMPLE SAYISI:\",viral) # ekrana viral(virüs) sample sayısını yazdırdım."
      ],
      "execution_count": null,
      "outputs": [
        {
          "output_type": "stream",
          "text": [
            "TRAİN DOSYASINDAKİ TOPLAM NORMAL SAMPLE SAYISI: 1349\n",
            "TRAİN DOSYASINDAKİ TOPLAM BAKTERİYEL PNEUMONIA SAMPLE SAYISI: 2538\n",
            "TRAİN DOSYASINDAKİ TOPLAM VİRAL PNEUMONIA SAMPLE SAYISI: 1345\n",
            "-----------------\n",
            "TEST DOSYASINDAKİ TOPLAM NORMAL SAMPLE SAYISI: 234\n",
            "TEST DOSYASINDAKİ TOPLAM BAKTERİYEL PNEUMONIA SAMPLE SAYISI: 242\n",
            "TEST DOSYASINDAKİ TOPLAM VİRAL PNEUMONIA SAMPLE SAYISI: 148\n"
          ],
          "name": "stdout"
        }
      ]
    },
    {
      "cell_type": "code",
      "metadata": {
        "colab": {
          "base_uri": "https://localhost:8080/"
        },
        "id": "Pz5QFyUCCnNO",
        "outputId": "9f38e96d-8492-4a6d-83f3-5e9ef4e84ccb"
      },
      "source": [
        "trainDataGen=ImageDataGenerator( # veriyi düzenleme işlemi yapıldı\n",
        "    rescale=1./255, # veri ölçekleme işlemi yapıldı\n",
        "    validation_split=0.1 # train verisinden yüzde 10 luk kısmı validasyon olarak ayarlandı.\n",
        ")\n",
        "\n",
        "testDataGen=ImageDataGenerator(rescale=1./255) # test veri seti yeniden ölçeklendi.\n",
        "trainGen=trainDataGen.flow_from_directory( \n",
        "    trainPath,\n",
        "    target_size=(224,224), #veriyi okurken ölçeklendiriyor.\n",
        "    color_mode='rgb', #renk modunu red green blue olarak ayarladım.\n",
        "    class_mode='categorical', # sınıflandırma boyutunu kategori olarak belirledim.\n",
        "    batch_size=32, #yığın boyutunu 32 olarak ayarladım.\n",
        "    subset='training' #subset olarak training verisi olarak belirledim.\n",
        ")\n",
        "\n",
        "valGen=trainDataGen.flow_from_directory( # valgen için veri düzenlemesi yapıldı.\n",
        "    trainPath, # valgen in train verisinden bilgi alacağı belirtildi.\n",
        "    target_size=(224,224), #veriyi okurken ölçeklendiriyor.\n",
        "    color_mode='rgb', #renk modunu red green blue olarak ayarladım.\n",
        "    class_mode='categorical', # sınıflandırma boyutunu kategori olarak belirledim.\n",
        "    batch_size=32, #yığın boyutunu 32 olarak ayarladım.\n",
        "    subset='validation') #subset olarak training verisi olarak belirledim.\n",
        "\n",
        "testGen=testDataGen.flow_from_directory(\n",
        "    testPath,  # testGen in test verisinden bilgi alacağı belirtildi.\n",
        "    target_size=(224,224), #veriyi okurken ölçeklendiriyor.\n",
        "    color_mode='rgb', #renk modunu red green blue olarak ayarladım.\n",
        "    class_mode='categorical', # sınıflandırma boyutunu kategori olarak belirledim.\n",
        "    batch_size=1) #yığın boyutunu 1 olarak ayarladım."
      ],
      "execution_count": null,
      "outputs": [
        {
          "output_type": "stream",
          "text": [
            "Found 4711 images belonging to 3 classes.\n",
            "Found 521 images belonging to 3 classes.\n",
            "Found 624 images belonging to 3 classes.\n"
          ],
          "name": "stdout"
        }
      ]
    },
    {
      "cell_type": "code",
      "metadata": {
        "id": "wnquwY2KCxlE"
      },
      "source": [
        "model.compile(loss=\"categorical_crossentropy\",optimizer=\"Adam\",metrics=[\"accuracy\"])"
      ],
      "execution_count": null,
      "outputs": []
    },
    {
      "cell_type": "code",
      "metadata": {
        "colab": {
          "base_uri": "https://localhost:8080/"
        },
        "id": "Wsod0COAC_Ci",
        "outputId": "c6a31a98-2606-4344-9f3b-df3d026b7f2e"
      },
      "source": [
        "history=model.fit(\n",
        "    trainGen,\n",
        "    steps_per_epoch=trainGen.samples//32,\n",
        "    validation_data=valGen,\n",
        "    epochs=10,\n",
        "    validation_steps=valGen.samples//32\n",
        ")"
      ],
      "execution_count": null,
      "outputs": [
        {
          "output_type": "stream",
          "text": [
            "Epoch 1/10\n",
            "147/147 [==============================] - 61s 407ms/step - loss: 3.1844 - accuracy: 0.6246 - val_loss: 0.4276 - val_accuracy: 0.8516\n",
            "Epoch 2/10\n",
            "147/147 [==============================] - 59s 399ms/step - loss: 0.4135 - accuracy: 0.8161 - val_loss: 0.3608 - val_accuracy: 0.8457\n",
            "Epoch 3/10\n",
            "147/147 [==============================] - 59s 399ms/step - loss: 0.3871 - accuracy: 0.8267 - val_loss: 0.3730 - val_accuracy: 0.8145\n",
            "Epoch 4/10\n",
            "147/147 [==============================] - 59s 400ms/step - loss: 0.3651 - accuracy: 0.8420 - val_loss: 0.2981 - val_accuracy: 0.8848\n",
            "Epoch 5/10\n",
            "147/147 [==============================] - 59s 399ms/step - loss: 0.2885 - accuracy: 0.8710 - val_loss: 0.3616 - val_accuracy: 0.8574\n",
            "Epoch 6/10\n",
            "147/147 [==============================] - 59s 402ms/step - loss: 0.2822 - accuracy: 0.8748 - val_loss: 0.2907 - val_accuracy: 0.8887\n",
            "Epoch 7/10\n",
            "147/147 [==============================] - 59s 402ms/step - loss: 0.2529 - accuracy: 0.8897 - val_loss: 0.3238 - val_accuracy: 0.8672\n",
            "Epoch 8/10\n",
            "147/147 [==============================] - 59s 401ms/step - loss: 0.2064 - accuracy: 0.9154 - val_loss: 0.3036 - val_accuracy: 0.8867\n",
            "Epoch 9/10\n",
            "147/147 [==============================] - 59s 401ms/step - loss: 0.1780 - accuracy: 0.9338 - val_loss: 0.3391 - val_accuracy: 0.8691\n",
            "Epoch 10/10\n",
            "147/147 [==============================] - 59s 401ms/step - loss: 0.1662 - accuracy: 0.9295 - val_loss: 0.3795 - val_accuracy: 0.8613\n"
          ],
          "name": "stdout"
        }
      ]
    },
    {
      "cell_type": "code",
      "metadata": {
        "colab": {
          "base_uri": "https://localhost:8080/",
          "height": 728
        },
        "id": "Z0utxGrdJ5tp",
        "outputId": "46a851cb-44e5-466f-a5e2-152271974606"
      },
      "source": [
        "plt.figure(figsize=(10,10)) # train accuracy ve validation accuracy ile train loss ve validation loss  grafiği çizdirildi.\n",
        "plt.subplot(211)\n",
        "plt.title(\"Accuracy\")\n",
        "plt.plot(history.history[\"accuracy\"],color='r',label='train')\n",
        "plt.plot(history.history[\"val_accuracy\"],color='b',label='validation')\n",
        "plt.legend(loc='best')\n",
        "\n",
        "plt.subplot(212)\n",
        "plt.title(\"Loss\")\n",
        "plt.plot(history.history[\"loss\"],color='r',label='train')\n",
        "plt.plot(history.history[\"val_loss\"],color='b',label='validation')\n",
        "plt.legend(loc='best')\n",
        "plt.tight_layout()\n",
        "plt.show()"
      ],
      "execution_count": null,
      "outputs": [
        {
          "output_type": "display_data",
          "data": {
            "image/png": "[encoded data removed]",
            "text/plain": [
              "<Figure size 720x720 with 2 Axes>"
            ]
          },
          "metadata": {
            "tags": [],
            "needs_background": "light"
          }
        }
      ]
    },
    {
      "cell_type": "code",
      "metadata": {
        "colab": {
          "base_uri": "https://localhost:8080/"
        },
        "id": "yTtYhc4kVHlW",
        "outputId": "1e89c7c5-33a1-4687-f992-d40014f17264"
      },
      "source": [
        "print(\"TEST:\") # model test verisiyle test edildi.\n",
        "score=model.evaluate(testGen)\n",
        "print(\"Test Loss\",score[0])\n",
        "print(\"Test Accuracy\",score[1]*100)"
      ],
      "execution_count": null,
      "outputs": [
        {
          "output_type": "stream",
          "text": [
            "TEST:\n",
            "624/624 [==============================] - 9s 14ms/step - loss: 1.4542 - accuracy: 0.6731\n",
            "Test Loss 1.4542244672775269\n",
            "Test Accuracy 67.30769276618958\n"
          ],
          "name": "stdout"
        }
      ]
    },
    {
      "cell_type": "code",
      "metadata": {
        "id": "jwkMfYmRfJ4p"
      },
      "source": [
        "def plot_confusion_matrix(cm, classes, normalize=True, title='Confusion matrix', cmap=plt.cm.Blues): # confusion matris işlemleri yapıldı.\n",
        "\n",
        "    plt.figure(figsize=(10,10))\n",
        "\n",
        "    plt.imshow(cm, interpolation='nearest', cmap=cmap)\n",
        "\n",
        "    plt.title(title)\n",
        "\n",
        "    plt.colorbar()\n",
        "\n",
        "    tick_marks = np.arange(len(classes))\n",
        "\n",
        "    plt.xticks(tick_marks, classes, rotation=45)\n",
        "\n",
        "    plt.yticks(tick_marks, classes)\n",
        "\n",
        "    if normalize:\n",
        "\n",
        "        cm = np.around(cm, decimals=2)\n",
        "\n",
        "        cm[np.isnan(cm)] = 0.0\n",
        "\n",
        "        print(\"Normalized confusion matrix\")\n",
        "\n",
        "    else:\n",
        "\n",
        "        print('Confusion matrix, without normalization')\n",
        "\n",
        "    thresh = cm.max() / 2.\n",
        "\n",
        "    for i, j in itertools.product(range(cm.shape[0]), range(cm.shape[1])):\n",
        "\n",
        "        plt.text(j, i, cm[i, j],\n",
        "\n",
        "                 horizontalalignment=\"center\",\n",
        "\n",
        "                 color=\"white\" if cm[i, j] > thresh else \"black\")\n",
        "\n",
        "    plt.tight_layout()\n",
        "\n",
        "    plt.ylabel('True label')\n",
        "\n",
        "    plt.xlabel('Predicted label')"
      ],
      "execution_count": null,
      "outputs": []
    },
    {
      "cell_type": "code",
      "metadata": {
        "colab": {
          "base_uri": "https://localhost:8080/",
          "height": 782
        },
        "id": "pu00mboNfkF2",
        "outputId": "21f07bbb-614a-4efc-b1c3-ac626a569da0"
      },
      "source": [
        "target_names = [] # karmaşıklık matrisi oluşturuldu.\n",
        "\n",
        "for key in trainGen.class_indices:\n",
        "\n",
        "    target_names.append(key)\n",
        "\n",
        "Y_pred = model.predict_generator(testGen)\n",
        "\n",
        "y_pred = np.argmax(Y_pred, axis=1)\n",
        "\n",
        "print('Confusion Matrix')\n",
        "\n",
        "cm = confusion_matrix(testGen.classes, y_pred)\n",
        "\n",
        "plot_confusion_matrix(cm, target_names, title='Confusion Matrix')"
      ],
      "execution_count": null,
      "outputs": [
        {
          "output_type": "stream",
          "text": [
            "/usr/local/lib/python3.7/dist-packages/keras/engine/training.py:1976: UserWarning: `Model.predict_generator` is deprecated and will be removed in a future version. Please use `Model.predict`, which supports generators.\n",
            "  warnings.warn('`Model.predict_generator` is deprecated and '\n"
          ],
          "name": "stderr"
        },
        {
          "output_type": "stream",
          "text": [
            "Confusion Matrix\n",
            "Normalized confusion matrix\n"
          ],
          "name": "stdout"
        },
        {
          "output_type": "display_data",
          "data": {
            "image/png": "[encoded data removed]",
            "text/plain": [
              "<Figure size 720x720 with 2 Axes>"
            ]
          },
          "metadata": {
            "tags": [],
            "needs_background": "light"
          }
        }
      ]
    },
    {
      "cell_type": "code",
      "metadata": {
        "colab": {
          "base_uri": "https://localhost:8080/"
        },
        "id": "I7FkAg_Xf39W",
        "outputId": "f04a35df-af31-499d-c151-3da936cebfe3"
      },
      "source": [
        "from sklearn.metrics import confusion_matrix\n",
        "from sklearn.metrics import classification_report\n",
        "confusion = confusion_matrix(testGen.classes, y_pred)\n",
        "print('Confusion Matrix\\n')\n",
        "print(confusion)\n",
        "\n",
        "\n",
        "print('Classification Report') # accuracy ,f1 score , recall vb değerler hesaplandı.\n",
        "target_names = ['bakteriyel_pneumonia', 'normal','viral_pneumonia']\n",
        "print(classification_report(testGen.classes, y_pred, target_names=target_names))"
      ],
      "execution_count": null,
      "outputs": [
        {
          "output_type": "stream",
          "text": [
            "Confusion Matrix\n",
            "\n",
            "[[114  37  91]\n",
            " [111  29  94]\n",
            " [ 64  16  68]]\n",
            "Classification Report\n",
            "                      precision    recall  f1-score   support\n",
            "\n",
            "bakteriyel_pneumonia       0.39      0.47      0.43       242\n",
            "              normal       0.35      0.12      0.18       234\n",
            "     viral_pneumonia       0.27      0.46      0.34       148\n",
            "\n",
            "            accuracy                           0.34       624\n",
            "           macro avg       0.34      0.35      0.32       624\n",
            "        weighted avg       0.35      0.34      0.32       624\n",
            "\n"
          ],
          "name": "stdout"
        }
      ]
    },
    {
      "cell_type": "markdown",
      "metadata": {
        "id": "Se8YQk84uqV1"
      },
      "source": [
        "3.CNN MODELİ KENDİ TASARLAMIŞ OLDUĞUM MODEL İLE ÇÖZÜMÜ"
      ]
    },
    {
      "cell_type": "code",
      "metadata": {
        "id": "2-RtkQrBuyu4"
      },
      "source": [
        "from keras.models import Sequential,Model\n",
        "from keras.layers.core import Flatten, Dense, Dropout\n",
        "from keras.layers import Conv2D, MaxPooling2D,Input\n",
        "from keras.preprocessing.image import ImageDataGenerator\n",
        "import os"
      ],
      "execution_count": null,
      "outputs": []
    },
    {
      "cell_type": "code",
      "metadata": {
        "colab": {
          "base_uri": "https://localhost:8080/"
        },
        "id": "4cCdFLuSwFP8",
        "outputId": "dd40c740-960f-4fad-af74-add5cd2d8c8c"
      },
      "source": [
        "from google.colab import drive\n",
        "drive.mount(\"/content/drive\")"
      ],
      "execution_count": null,
      "outputs": [
        {
          "output_type": "stream",
          "text": [
            "Drive already mounted at /content/drive; to attempt to forcibly remount, call drive.mount(\"/content/drive\", force_remount=True).\n"
          ],
          "name": "stdout"
        }
      ]
    },
    {
      "cell_type": "code",
      "metadata": {
        "id": "LYLAfEkoUpR4"
      },
      "source": [
        "trainPath=\"./drive/MyDrive/veri_seti_final/train/\" # chest xray veya diğer adıyla final_veri_setinden train verisetinin url si verildi.\n",
        "testPath=\"./drive/MyDrive/veri_seti_final/test/\" # chest xray veya diğer adıyla final_veri_setinden test verisetinin url si verildi."
      ],
      "execution_count": null,
      "outputs": []
    },
    {
      "cell_type": "code",
      "metadata": {
        "colab": {
          "base_uri": "https://localhost:8080/"
        },
        "id": "hsCfzrKHwQ4T",
        "outputId": "79f3858e-f13a-4eb3-b579-20fd8461c375"
      },
      "source": [
        "list_normal = os.listdir(\"./drive/MyDrive/veri_seti_final/train/normal\") # train verisindeki normal klasöründe bulunan sample sayısını buldurmak için url verdim.\n",
        "normal = len(list_normal) # normal klasörünün toplam sample sayısını buldurdum.\n",
        "print (\"TRAİN DOSYASINDAKİ TOPLAM NORMAL SAMPLE SAYISI:\",normal) # ekrana normal sample sayısını yazdırdım.\n",
        "\n",
        "list_bakteriyel = os.listdir(\"./drive/MyDrive/veri_seti_final/train/bakteriyel_pneumonia\") # train verisindeki bakteriyel_pneumonia klasöründe bulunan sample sayısını buldurmak için url verdim.\n",
        "bakteriyel = len(list_bakteriyel) # bakteri klasörünün toplam sample sayısını buldurdum.\n",
        "print (\"TRAİN DOSYASINDAKİ TOPLAM BAKTERİYEL PNEUMONIA SAMPLE SAYISI:\",bakteriyel)  # ekrana bakteri sample sayısını yazdırdım.\n",
        "\n",
        "list_viral = os.listdir(\"./drive/MyDrive/veri_seti_final/train/viral_pneumonia\") # train verisindeki virüs veya viral_pneumonia klasöründe bulunan sample sayısını buldurmak için url verdim.\n",
        "viral = len(list_viral)  # viral(virüs) klasörünün toplam sample sayısını buldurdum.\n",
        "print (\"TRAİN DOSYASINDAKİ TOPLAM VİRAL PNEUMONIA SAMPLE SAYISI:\",viral)  # ekrana viral(virüs) sample sayısını yazdırdım.\n",
        "print(\"-----------------\")\n",
        "list_normal = os.listdir(\"./drive/MyDrive/veri_seti_final/test/normal\") # test verisindeki normal klasöründe bulunan sample sayısını buldurmak için url verdim.\n",
        "normal = len(list_normal) # normal klasörünün toplam sample sayısını buldurdum.\n",
        "print (\"TEST DOSYASINDAKİ TOPLAM NORMAL SAMPLE SAYISI:\",normal) # ekrana normal sample sayısını yazdırdım.\n",
        "\n",
        "list_bakteriyel = os.listdir(\"./drive/MyDrive/veri_seti_final/test/bakteriyel_pneumonia\") # test verisindeki bakteriyel_pneumonia klasöründe bulunan sample sayısını buldurmak için url verdim.\n",
        "bakteriyel = len(list_bakteriyel)  # bakteri klasörünün toplam sample sayısını buldurdum.\n",
        "print (\"TEST DOSYASINDAKİ TOPLAM BAKTERİYEL PNEUMONIA SAMPLE SAYISI:\",bakteriyel)  # ekrana bakteri sample sayısını yazdırdım.\n",
        "\n",
        "list_viral = os.listdir(\"./drive/MyDrive/veri_seti_final/test/viral_pneumonia\") # test verisindeki virüs veya viral_pneumonia klasöründe bulunan sample sayısını buldurmak için url verdim.\n",
        "viral = len(list_viral) # viral(virüs) klasörünün toplam sample sayısını buldurdum.\n",
        "print (\"TEST DOSYASINDAKİ TOPLAM VİRAL PNEUMONIA SAMPLE SAYISI:\",viral) # ekrana viral(virüs) sample sayısını yazdırdım."
      ],
      "execution_count": null,
      "outputs": [
        {
          "output_type": "stream",
          "text": [
            "TRAİN DOSYASINDAKİ TOPLAM NORMAL SAMPLE SAYISI: 1349\n",
            "TRAİN DOSYASINDAKİ TOPLAM BAKTERİYEL PNEUMONIA SAMPLE SAYISI: 2538\n",
            "TRAİN DOSYASINDAKİ TOPLAM VİRAL PNEUMONIA SAMPLE SAYISI: 1345\n",
            "-----------------\n",
            "TEST DOSYASINDAKİ TOPLAM NORMAL SAMPLE SAYISI: 234\n",
            "TEST DOSYASINDAKİ TOPLAM BAKTERİYEL PNEUMONIA SAMPLE SAYISI: 242\n",
            "TEST DOSYASINDAKİ TOPLAM VİRAL PNEUMONIA SAMPLE SAYISI: 148\n"
          ],
          "name": "stdout"
        }
      ]
    },
    {
      "cell_type": "code",
      "metadata": {
        "colab": {
          "base_uri": "https://localhost:8080/"
        },
        "id": "xE6HxPL3wR1a",
        "outputId": "24e064d9-ae6f-4b9e-ff59-e1b55a9c596b"
      },
      "source": [
        "trainDataGen=ImageDataGenerator( # veriyi düzenleme işlemi yapıldı\n",
        "    rescale=1./255, # veri ölçekleme işlemi yapıldı\n",
        "    validation_split=0.1 # train verisinden yüzde 10 luk kısmı validasyon olarak ayarlandı.\n",
        ")\n",
        "\n",
        "testDataGen=ImageDataGenerator(rescale=1./255) # test veri seti yeniden ölçeklendi.\n",
        "trainGen=trainDataGen.flow_from_directory( \n",
        "    trainPath,\n",
        "    target_size=(224,224), #veriyi okurken ölçeklendiriyor.\n",
        "    color_mode='rgb', #renk modunu red green blue olarak ayarladım.\n",
        "    class_mode='categorical', # sınıflandırma boyutunu kategori olarak belirledim.\n",
        "    batch_size=32, #yığın boyutunu 32 olarak ayarladım.\n",
        "    subset='training' #subset olarak training verisi olarak belirledim.\n",
        ")\n",
        "\n",
        "valGen=trainDataGen.flow_from_directory( # valgen için veri düzenlemesi yapıldı.\n",
        "    trainPath, # valgen in train verisinden bilgi alacağı belirtildi.\n",
        "    target_size=(224,224), #veriyi okurken ölçeklendiriyor.\n",
        "    color_mode='rgb', #renk modunu red green blue olarak ayarladım.\n",
        "    class_mode='categorical', # sınıflandırma boyutunu kategori olarak belirledim.\n",
        "    batch_size=32, #yığın boyutunu 32 olarak ayarladım.\n",
        "    subset='validation') #subset olarak training verisi olarak belirledim.\n",
        "\n",
        "testGen=testDataGen.flow_from_directory(\n",
        "    testPath,  # testGen in test verisinden bilgi alacağı belirtildi.\n",
        "    target_size=(224,224), #veriyi okurken ölçeklendiriyor.\n",
        "    color_mode='rgb', #renk modunu red green blue olarak ayarladım.\n",
        "    class_mode='categorical', # sınıflandırma boyutunu kategori olarak belirledim.\n",
        "    batch_size=1) #yığın boyutunu 1 olarak ayarladım."
      ],
      "execution_count": null,
      "outputs": [
        {
          "output_type": "stream",
          "text": [
            "Found 4711 images belonging to 3 classes.\n",
            "Found 521 images belonging to 3 classes.\n",
            "Found 624 images belonging to 3 classes.\n"
          ],
          "name": "stdout"
        }
      ]
    },
    {
      "cell_type": "code",
      "metadata": {
        "colab": {
          "base_uri": "https://localhost:8080/"
        },
        "id": "zQh89PZjwkXk",
        "outputId": "e4a8eb3a-c133-4d6a-ea03-c732f0e1f6f0"
      },
      "source": [
        "    model = Sequential()\n",
        "    model.add(Conv2D(80, (5,5), input_shape = (224,224,3), activation = \"relu\"))\n",
        "    model.add(Conv2D(80, (5,5),  activation = \"relu\"))\n",
        "    model.add(MaxPooling2D(pool_size = (2,2)))\n",
        "    model.add(Conv2D(40, (3,3), activation = \"relu\"))\n",
        "    model.add(Conv2D(40, (3,3), activation = \"relu\"))\n",
        "    model.add(MaxPooling2D(pool_size = (2,2)))\n",
        "    model.add(Flatten())\n",
        "    model.add(Dense(512, activation = \"relu\"))\n",
        "    model.add(Dropout(0.5))\n",
        "    model.add(Dense(3, activation =\"softmax\"))\n",
        "    model.summary()"
      ],
      "execution_count": null,
      "outputs": [
        {
          "output_type": "stream",
          "text": [
            "Model: \"sequential_8\"\n",
            "_________________________________________________________________\n",
            "Layer (type)                 Output Shape              Param #   \n",
            "=================================================================\n",
            "conv2d_388 (Conv2D)          (None, 220, 220, 80)      6080      \n",
            "_________________________________________________________________\n",
            "conv2d_389 (Conv2D)          (None, 216, 216, 80)      160080    \n",
            "_________________________________________________________________\n",
            "max_pooling2d_96 (MaxPooling (None, 108, 108, 80)      0         \n",
            "_________________________________________________________________\n",
            "conv2d_390 (Conv2D)          (None, 106, 106, 40)      28840     \n",
            "_________________________________________________________________\n",
            "conv2d_391 (Conv2D)          (None, 104, 104, 40)      14440     \n",
            "_________________________________________________________________\n",
            "max_pooling2d_97 (MaxPooling (None, 52, 52, 40)        0         \n",
            "_________________________________________________________________\n",
            "flatten_29 (Flatten)         (None, 108160)            0         \n",
            "_________________________________________________________________\n",
            "dense_42 (Dense)             (None, 512)               55378432  \n",
            "_________________________________________________________________\n",
            "dropout_6 (Dropout)          (None, 512)               0         \n",
            "_________________________________________________________________\n",
            "dense_43 (Dense)             (None, 3)                 1539      \n",
            "=================================================================\n",
            "Total params: 55,589,411\n",
            "Trainable params: 55,589,411\n",
            "Non-trainable params: 0\n",
            "_________________________________________________________________\n"
          ],
          "name": "stdout"
        }
      ]
    },
    {
      "cell_type": "code",
      "metadata": {
        "id": "9NJz5X9PwW9l"
      },
      "source": [
        "model.compile(loss=\"categorical_crossentropy\",optimizer=\"Adam\",metrics=[\"accuracy\"])"
      ],
      "execution_count": null,
      "outputs": []
    },
    {
      "cell_type": "code",
      "metadata": {
        "colab": {
          "base_uri": "https://localhost:8080/"
        },
        "id": "unpw6vnRwcdo",
        "outputId": "7ae9c72f-5e25-411c-8ada-531ba0758dab"
      },
      "source": [
        "history=model.fit(\n",
        "    trainGen,\n",
        "    steps_per_epoch=trainGen.samples//32,\n",
        "    validation_data=valGen,\n",
        "    epochs=10,\n",
        "    validation_steps=valGen.samples//32\n",
        ")"
      ],
      "execution_count": null,
      "outputs": [
        {
          "output_type": "stream",
          "text": [
            "Epoch 1/10\n",
            "147/147 [==============================] - 67s 445ms/step - loss: 1.8353 - accuracy: 0.5038 - val_loss: 0.8180 - val_accuracy: 0.6504\n",
            "Epoch 2/10\n",
            "147/147 [==============================] - 65s 441ms/step - loss: 0.7497 - accuracy: 0.6899 - val_loss: 0.5628 - val_accuracy: 0.7930\n",
            "Epoch 3/10\n",
            "147/147 [==============================] - 65s 442ms/step - loss: 0.5935 - accuracy: 0.7446 - val_loss: 0.4802 - val_accuracy: 0.8359\n",
            "Epoch 4/10\n",
            "147/147 [==============================] - 65s 440ms/step - loss: 0.5703 - accuracy: 0.7455 - val_loss: 0.4881 - val_accuracy: 0.8203\n",
            "Epoch 5/10\n",
            "147/147 [==============================] - 65s 442ms/step - loss: 0.6216 - accuracy: 0.7482 - val_loss: 0.4848 - val_accuracy: 0.8262\n",
            "Epoch 6/10\n",
            "147/147 [==============================] - 65s 442ms/step - loss: 0.5016 - accuracy: 0.7737 - val_loss: 0.4752 - val_accuracy: 0.8105\n",
            "Epoch 7/10\n",
            "147/147 [==============================] - 65s 441ms/step - loss: 0.4822 - accuracy: 0.7762 - val_loss: 0.4329 - val_accuracy: 0.8652\n",
            "Epoch 8/10\n",
            "147/147 [==============================] - 64s 435ms/step - loss: 0.4373 - accuracy: 0.8000 - val_loss: 0.4437 - val_accuracy: 0.8320\n",
            "Epoch 9/10\n",
            "147/147 [==============================] - 64s 432ms/step - loss: 0.4116 - accuracy: 0.8211 - val_loss: 0.4890 - val_accuracy: 0.8516\n",
            "Epoch 10/10\n",
            "147/147 [==============================] - 63s 429ms/step - loss: 0.4165 - accuracy: 0.8124 - val_loss: 0.4834 - val_accuracy: 0.8613\n"
          ],
          "name": "stdout"
        }
      ]
    },
    {
      "cell_type": "code",
      "metadata": {
        "colab": {
          "base_uri": "https://localhost:8080/",
          "height": 728
        },
        "id": "YCmDJQ4W0is6",
        "outputId": "e09155d9-d758-42ca-d133-57e977674c6d"
      },
      "source": [
        "plt.figure(figsize=(10,10)) # train accuracy ve validation accuracy ile train loss ve validation loss  grafiği çizdirildi.\n",
        "plt.subplot(211)\n",
        "plt.title(\"Accuracy\")\n",
        "plt.plot(history.history[\"accuracy\"],color='r',label='train')\n",
        "plt.plot(history.history[\"val_accuracy\"],color='b',label='validation')\n",
        "plt.legend(loc='best')\n",
        "\n",
        "plt.subplot(212)\n",
        "plt.title(\"Loss\")\n",
        "plt.plot(history.history[\"loss\"],color='r',label='train')\n",
        "plt.plot(history.history[\"val_loss\"],color='b',label='validation')\n",
        "plt.legend(loc='best')\n",
        "plt.tight_layout()\n",
        "plt.show()"
      ],
      "execution_count": null,
      "outputs": [
        {
          "output_type": "display_data",
          "data": {
            "image/png": "[encoded data removed]",
            "text/plain": [
              "<Figure size 720x720 with 2 Axes>"
            ]
          },
          "metadata": {
            "tags": [],
            "needs_background": "light"
          }
        }
      ]
    },
    {
      "cell_type": "code",
      "metadata": {
        "colab": {
          "base_uri": "https://localhost:8080/"
        },
        "id": "UZJw_0HI9X_B",
        "outputId": "c0236b60-8881-4014-8b38-59f7aba9fc66"
      },
      "source": [
        "print(\"TEST:\") # model test verisiyle test edildi.\n",
        "score=model.evaluate(testGen)\n",
        "print(\"Test Loss\",score[0])\n",
        "print(\"Test Accuracy\",score[1]*100)"
      ],
      "execution_count": null,
      "outputs": [
        {
          "output_type": "stream",
          "text": [
            "TEST:\n",
            "624/624 [==============================] - 8s 13ms/step - loss: 1.4836 - accuracy: 0.7115\n",
            "Test Loss 1.4836492538452148\n",
            "Test Accuracy 71.15384340286255\n"
          ],
          "name": "stdout"
        }
      ]
    },
    {
      "cell_type": "code",
      "metadata": {
        "id": "EBppuv3J9cxq"
      },
      "source": [
        "def plot_confusion_matrix3(cm, classes, normalize=True, title='Confusion matrix', cmap=plt.cm.Blues): # confusion matris işlemleri yapıldı.\n",
        "\n",
        "    plt.figure(figsize=(10,10))\n",
        "\n",
        "    plt.imshow(cm, interpolation='nearest', cmap=cmap)\n",
        "\n",
        "    plt.title(title)\n",
        "\n",
        "    plt.colorbar()\n",
        "\n",
        "    tick_marks = np.arange(len(classes))\n",
        "\n",
        "    plt.xticks(tick_marks, classes, rotation=45)\n",
        "\n",
        "    plt.yticks(tick_marks, classes)\n",
        "\n",
        "    if normalize:\n",
        "\n",
        "        cm = np.around(cm, decimals=2)\n",
        "\n",
        "        cm[np.isnan(cm)] = 0.0\n",
        "\n",
        "        print(\"Normalized confusion matrix\")\n",
        "\n",
        "    else:\n",
        "\n",
        "        print('Confusion matrix, without normalization')\n",
        "\n",
        "    thresh = cm.max() / 2.\n",
        "\n",
        "    for i, j in itertools.product(range(cm.shape[0]), range(cm.shape[1])):\n",
        "\n",
        "        plt.text(j, i, cm[i, j],\n",
        "\n",
        "                 horizontalalignment=\"center\",\n",
        "\n",
        "                 color=\"white\" if cm[i, j] > thresh else \"black\")\n",
        "\n",
        "    plt.tight_layout()\n",
        "\n",
        "    plt.ylabel('True label')\n",
        "\n",
        "    plt.xlabel('Predicted label')"
      ],
      "execution_count": null,
      "outputs": []
    },
    {
      "cell_type": "code",
      "metadata": {
        "colab": {
          "base_uri": "https://localhost:8080/",
          "height": 782
        },
        "id": "KVwQDrnP9jUM",
        "outputId": "eb10a795-df5d-44fe-fca8-9963e59bb0d3"
      },
      "source": [
        "target_names = [] # karmaşıklık matrisi oluşturuldu.\n",
        "\n",
        "for key in trainGen.class_indices:\n",
        "\n",
        "    target_names.append(key)\n",
        "\n",
        "Y_pred = model.predict_generator(testGen)\n",
        "\n",
        "y_pred = np.argmax(Y_pred, axis=1)\n",
        "\n",
        "print('Confusion Matrix')\n",
        "\n",
        "cm = confusion_matrix(testGen.classes, y_pred)\n",
        "\n",
        "plot_confusion_matrix3(cm, target_names, title='Confusion Matrix')"
      ],
      "execution_count": null,
      "outputs": [
        {
          "output_type": "stream",
          "text": [
            "/usr/local/lib/python3.7/dist-packages/keras/engine/training.py:1976: UserWarning: `Model.predict_generator` is deprecated and will be removed in a future version. Please use `Model.predict`, which supports generators.\n",
            "  warnings.warn('`Model.predict_generator` is deprecated and '\n"
          ],
          "name": "stderr"
        },
        {
          "output_type": "stream",
          "text": [
            "Confusion Matrix\n",
            "Normalized confusion matrix\n"
          ],
          "name": "stdout"
        },
        {
          "output_type": "display_data",
          "data": {
            "image/png": "[encoded data removed]",
            "text/plain": [
              "<Figure size 720x720 with 2 Axes>"
            ]
          },
          "metadata": {
            "tags": [],
            "needs_background": "light"
          }
        }
      ]
    },
    {
      "cell_type": "code",
      "metadata": {
        "colab": {
          "base_uri": "https://localhost:8080/"
        },
        "id": "KpCwPgZ99sPQ",
        "outputId": "852f90cb-a82d-4e67-80f3-5e1687aec459"
      },
      "source": [
        "from sklearn.metrics import confusion_matrix\n",
        "from sklearn.metrics import classification_report\n",
        "confusion = confusion_matrix(testGen.classes, y_pred)\n",
        "print('Confusion Matrix\\n')\n",
        "print(confusion)\n",
        "\n",
        "\n",
        "print('Classification Report') # accuracy ,f1 score , recall vb değerler hesaplandı.\n",
        "target_names = ['bakteriyel_pneumonia', 'normal','viral_pneumonia']\n",
        "print(classification_report(testGen.classes, y_pred, target_names=target_names))"
      ],
      "execution_count": null,
      "outputs": [
        {
          "output_type": "stream",
          "text": [
            "Confusion Matrix\n",
            "\n",
            "[[114  37  91]\n",
            " [111  29  94]\n",
            " [ 64  16  68]]\n",
            "Classification Report\n",
            "                      precision    recall  f1-score   support\n",
            "\n",
            "bakteriyel_pneumonia       0.39      0.47      0.43       242\n",
            "              normal       0.35      0.12      0.18       234\n",
            "     viral_pneumonia       0.27      0.46      0.34       148\n",
            "\n",
            "            accuracy                           0.34       624\n",
            "           macro avg       0.34      0.35      0.32       624\n",
            "        weighted avg       0.35      0.34      0.32       624\n",
            "\n"
          ],
          "name": "stdout"
        }
      ]
    },
    {
      "cell_type": "markdown",
      "metadata": {
        "id": "oREyjRT0-nP6"
      },
      "source": [
        "4.CNN MODELİ İNCEPTİON_V3 İLE ÇÖZÜMÜ"
      ]
    },
    {
      "cell_type": "code",
      "metadata": {
        "id": "o5i7NilBPd8U"
      },
      "source": [
        "import os\n",
        "import numpy as np\n",
        "import tensorflow as tf\n",
        "import matplotlib.pyplot as plt\n",
        "from tensorflow.keras import regularizers\n",
        "from tensorflow.keras.models import Sequential, Model\n",
        "from tensorflow.keras.layers import Input, Flatten, Dense, Dropout, BatchNormalization,Activation,Add\n",
        "from tensorflow.keras.layers import Conv2D, MaxPooling2D, AveragePooling2D, ZeroPadding2D,GlobalAveragePooling2D\n",
        "from tensorflow.keras.layers import Concatenate\n",
        "from tensorflow.keras.preprocessing.image import ImageDataGenerator\n",
        "from tensorflow.keras.optimizers import Adam, SGD"
      ],
      "execution_count": null,
      "outputs": []
    },
    {
      "cell_type": "code",
      "metadata": {
        "colab": {
          "base_uri": "https://localhost:8080/"
        },
        "id": "AeFOMZNxUFtV",
        "outputId": "84830d43-2037-4836-dff8-f07bc04dd858"
      },
      "source": [
        "from google.colab import drive\n",
        "drive.mount(\"/content/drive\")"
      ],
      "execution_count": null,
      "outputs": [
        {
          "output_type": "stream",
          "text": [
            "Mounted at /content/drive\n"
          ],
          "name": "stdout"
        }
      ]
    },
    {
      "cell_type": "code",
      "metadata": {
        "id": "h1iC1vhwUeDb"
      },
      "source": [
        "trainPath=\"./drive/MyDrive/veri_seti_final/train/\" # chest xray veya diğer adıyla final_veri_setinden train verisetinin url si verildi.\n",
        "testPath=\"./drive/MyDrive/veri_seti_final/test/\" # chest xray veya diğer adıyla final_veri_setinden test verisetinin url si verildi."
      ],
      "execution_count": null,
      "outputs": []
    },
    {
      "cell_type": "code",
      "metadata": {
        "colab": {
          "base_uri": "https://localhost:8080/"
        },
        "id": "Q-1ILnyfUWqm",
        "outputId": "58f079fc-ed06-4ec7-f9dc-15a689f17cf1"
      },
      "source": [
        "list_normal = os.listdir(\"./drive/MyDrive/veri_seti_final/train/normal\") # train verisindeki normal klasöründe bulunan sample sayısını buldurmak için url verdim.\n",
        "normal = len(list_normal) # normal klasörünün toplam sample sayısını buldurdum.\n",
        "print (\"TRAİN DOSYASINDAKİ TOPLAM NORMAL SAMPLE SAYISI:\",normal) # ekrana normal sample sayısını yazdırdım.\n",
        "\n",
        "list_bakteriyel = os.listdir(\"./drive/MyDrive/veri_seti_final/train/bakteriyel_pneumonia\") # train verisindeki bakteriyel_pneumonia klasöründe bulunan sample sayısını buldurmak için url verdim.\n",
        "bakteriyel = len(list_bakteriyel) # bakteri klasörünün toplam sample sayısını buldurdum.\n",
        "print (\"TRAİN DOSYASINDAKİ TOPLAM BAKTERİYEL PNEUMONIA SAMPLE SAYISI:\",bakteriyel)  # ekrana bakteri sample sayısını yazdırdım.\n",
        "\n",
        "list_viral = os.listdir(\"./drive/MyDrive/veri_seti_final/train/viral_pneumonia\") # train verisindeki virüs veya viral_pneumonia klasöründe bulunan sample sayısını buldurmak için url verdim.\n",
        "viral = len(list_viral)  # viral(virüs) klasörünün toplam sample sayısını buldurdum.\n",
        "print (\"TRAİN DOSYASINDAKİ TOPLAM VİRAL PNEUMONIA SAMPLE SAYISI:\",viral)  # ekrana viral(virüs) sample sayısını yazdırdım.\n",
        "print(\"-----------------\")\n",
        "list_normal = os.listdir(\"./drive/MyDrive/veri_seti_final/test/normal\") # test verisindeki normal klasöründe bulunan sample sayısını buldurmak için url verdim.\n",
        "normal = len(list_normal) # normal klasörünün toplam sample sayısını buldurdum.\n",
        "print (\"TEST DOSYASINDAKİ TOPLAM NORMAL SAMPLE SAYISI:\",normal) # ekrana normal sample sayısını yazdırdım.\n",
        "\n",
        "list_bakteriyel = os.listdir(\"./drive/MyDrive/veri_seti_final/test/bakteriyel_pneumonia\") # test verisindeki bakteriyel_pneumonia klasöründe bulunan sample sayısını buldurmak için url verdim.\n",
        "bakteriyel = len(list_bakteriyel)  # bakteri klasörünün toplam sample sayısını buldurdum.\n",
        "print (\"TEST DOSYASINDAKİ TOPLAM BAKTERİYEL PNEUMONIA SAMPLE SAYISI:\",bakteriyel)  # ekrana bakteri sample sayısını yazdırdım.\n",
        "\n",
        "list_viral = os.listdir(\"./drive/MyDrive/veri_seti_final/test/viral_pneumonia\") # test verisindeki virüs veya viral_pneumonia klasöründe bulunan sample sayısını buldurmak için url verdim.\n",
        "viral = len(list_viral) # viral(virüs) klasörünün toplam sample sayısını buldurdum.\n",
        "print (\"TEST DOSYASINDAKİ TOPLAM VİRAL PNEUMONIA SAMPLE SAYISI:\",viral) # ekrana viral(virüs) sample sayısını yazdırdım."
      ],
      "execution_count": null,
      "outputs": [
        {
          "output_type": "stream",
          "text": [
            "TRAİN DOSYASINDAKİ TOPLAM NORMAL SAMPLE SAYISI: 1349\n",
            "TRAİN DOSYASINDAKİ TOPLAM BAKTERİYEL PNEUMONIA SAMPLE SAYISI: 2538\n",
            "TRAİN DOSYASINDAKİ TOPLAM VİRAL PNEUMONIA SAMPLE SAYISI: 1345\n",
            "-----------------\n",
            "TEST DOSYASINDAKİ TOPLAM NORMAL SAMPLE SAYISI: 234\n",
            "TEST DOSYASINDAKİ TOPLAM BAKTERİYEL PNEUMONIA SAMPLE SAYISI: 242\n",
            "TEST DOSYASINDAKİ TOPLAM VİRAL PNEUMONIA SAMPLE SAYISI: 148\n"
          ],
          "name": "stdout"
        }
      ]
    },
    {
      "cell_type": "code",
      "metadata": {
        "colab": {
          "base_uri": "https://localhost:8080/"
        },
        "id": "kTHOQYH_VLmi",
        "outputId": "556b2713-bb7f-4c3a-8a55-ef0eb1d59814"
      },
      "source": [
        "trainDataGen=ImageDataGenerator( # veriyi düzenleme işlemi yapıldı\n",
        "    rescale=1./255, # veri ölçekleme işlemi yapıldı\n",
        "    validation_split=0.1 # train verisinden yüzde 10 luk kısmı validasyon olarak ayarlandı.\n",
        ")\n",
        "\n",
        "testDataGen=ImageDataGenerator(rescale=1./255) # test veri seti yeniden ölçeklendi.\n",
        "trainGen=trainDataGen.flow_from_directory( \n",
        "    trainPath,\n",
        "    target_size=(224,224), #veriyi okurken ölçeklendiriyor.\n",
        "    color_mode='rgb', #renk modunu red green blue olarak ayarladım.\n",
        "    class_mode='categorical', # sınıflandırma boyutunu kategori olarak belirledim.\n",
        "    batch_size=32, #yığın boyutunu 32 olarak ayarladım.\n",
        "    subset='training' #subset olarak training verisi olarak belirledim.\n",
        ")\n",
        "\n",
        "valGen=trainDataGen.flow_from_directory( # valgen için veri düzenlemesi yapıldı.\n",
        "    trainPath, # valgen in train verisinden bilgi alacağı belirtildi.\n",
        "    target_size=(224,224), #veriyi okurken ölçeklendiriyor.\n",
        "    color_mode='rgb', #renk modunu red green blue olarak ayarladım.\n",
        "    class_mode='categorical', # sınıflandırma boyutunu kategori olarak belirledim.\n",
        "    batch_size=32, #yığın boyutunu 32 olarak ayarladım.\n",
        "    subset='validation') #subset olarak training verisi olarak belirledim.\n",
        "\n",
        "testGen=testDataGen.flow_from_directory(\n",
        "    testPath,  # testGen in test verisinden bilgi alacağı belirtildi.\n",
        "    target_size=(224,224), #veriyi okurken ölçeklendiriyor.\n",
        "    color_mode='rgb', #renk modunu red green blue olarak ayarladım.\n",
        "    class_mode='categorical', # sınıflandırma boyutunu kategori olarak belirledim.\n",
        "    batch_size=1) #yığın boyutunu 1 olarak ayarladım."
      ],
      "execution_count": null,
      "outputs": [
        {
          "output_type": "stream",
          "text": [
            "Found 4711 images belonging to 3 classes.\n",
            "Found 521 images belonging to 3 classes.\n",
            "Found 624 images belonging to 3 classes.\n"
          ],
          "name": "stdout"
        }
      ]
    },
    {
      "cell_type": "code",
      "metadata": {
        "colab": {
          "base_uri": "https://localhost:8080/"
        },
        "id": "dAf95F1Tfk76",
        "outputId": "5bff0371-7393-4f4f-ba37-130c6588911d"
      },
      "source": [
        "from tensorflow.keras.applications.inception_v3 import InceptionV3\n",
        "from tensorflow.keras.preprocessing import image\n",
        "from tensorflow.keras.models import Model\n",
        "from tensorflow.keras.layers import Dense, GlobalAveragePooling2D\n",
        "\n",
        "# temel önceden eğitilmiş modeli oluşturma\n",
        "base_model = InceptionV3(weights='imagenet', include_top=False,input_shape=(299,299,3))\n",
        "\n",
        "# küresel bir uzamsal ortalama havuzlama katmanı ekleme\n",
        "x = base_model.output\n",
        "x = GlobalAveragePooling2D()(x)\n",
        "# tam bağlı bir katman eklendi\n",
        "x = Dense(512, activation='relu')(x)\n",
        "x = Dense(256, activation='relu')(x)\n",
        "# ve bir lojistik katman -- diyelim ki 3 sınıfımız var\n",
        "predictions = Dense(3, activation='softmax')(x)\n",
        "\n",
        "# eğiteceğimiz model bu\n",
        "model1 = Model(inputs=base_model.input, outputs=predictions)\n",
        "\n",
        "# ilk: yalnızca üst katmanları eğitildi (rastgele başlatıldı)\n",
        "# yani tüm evrişimli InceptionV3 katmanlarını dondur\n",
        "for layer in base_model.layers:\n",
        "    layer.trainable = False\n",
        "\n",
        "model1.summary()"
      ],
      "execution_count": null,
      "outputs": [
        {
          "output_type": "stream",
          "text": [
            "Downloading data from https://storage.googleapis.com/tensorflow/keras-applications/inception_v3/inception_v3_weights_tf_dim_ordering_tf_kernels_notop.h5\n",
            "87916544/87910968 [==============================] - 1s 0us/step\n",
            "Model: \"model\"\n",
            "__________________________________________________________________________________________________\n",
            "Layer (type)                    Output Shape         Param #     Connected to                     \n",
            "==================================================================================================\n",
            "input_1 (InputLayer)            [(None, 299, 299, 3) 0                                            \n",
            "__________________________________________________________________________________________________\n",
            "conv2d (Conv2D)                 (None, 149, 149, 32) 864         input_1[0][0]                    \n",
            "__________________________________________________________________________________________________\n",
            "batch_normalization (BatchNorma (None, 149, 149, 32) 96          conv2d[0][0]                     \n",
            "__________________________________________________________________________________________________\n",
            "activation (Activation)         (None, 149, 149, 32) 0           batch_normalization[0][0]        \n",
            "__________________________________________________________________________________________________\n",
            "conv2d_1 (Conv2D)               (None, 147, 147, 32) 9216        activation[0][0]                 \n",
            "__________________________________________________________________________________________________\n",
            "batch_normalization_1 (BatchNor (None, 147, 147, 32) 96          conv2d_1[0][0]                   \n",
            "__________________________________________________________________________________________________\n",
            "activation_1 (Activation)       (None, 147, 147, 32) 0           batch_normalization_1[0][0]      \n",
            "__________________________________________________________________________________________________\n",
            "conv2d_2 (Conv2D)               (None, 147, 147, 64) 18432       activation_1[0][0]               \n",
            "__________________________________________________________________________________________________\n",
            "batch_normalization_2 (BatchNor (None, 147, 147, 64) 192         conv2d_2[0][0]                   \n",
            "__________________________________________________________________________________________________\n",
            "activation_2 (Activation)       (None, 147, 147, 64) 0           batch_normalization_2[0][0]      \n",
            "__________________________________________________________________________________________________\n",
            "max_pooling2d (MaxPooling2D)    (None, 73, 73, 64)   0           activation_2[0][0]               \n",
            "__________________________________________________________________________________________________\n",
            "conv2d_3 (Conv2D)               (None, 73, 73, 80)   5120        max_pooling2d[0][0]              \n",
            "__________________________________________________________________________________________________\n",
            "batch_normalization_3 (BatchNor (None, 73, 73, 80)   240         conv2d_3[0][0]                   \n",
            "__________________________________________________________________________________________________\n",
            "activation_3 (Activation)       (None, 73, 73, 80)   0           batch_normalization_3[0][0]      \n",
            "__________________________________________________________________________________________________\n",
            "conv2d_4 (Conv2D)               (None, 71, 71, 192)  138240      activation_3[0][0]               \n",
            "__________________________________________________________________________________________________\n",
            "batch_normalization_4 (BatchNor (None, 71, 71, 192)  576         conv2d_4[0][0]                   \n",
            "__________________________________________________________________________________________________\n",
            "activation_4 (Activation)       (None, 71, 71, 192)  0           batch_normalization_4[0][0]      \n",
            "__________________________________________________________________________________________________\n",
            "max_pooling2d_1 (MaxPooling2D)  (None, 35, 35, 192)  0           activation_4[0][0]               \n",
            "__________________________________________________________________________________________________\n",
            "conv2d_8 (Conv2D)               (None, 35, 35, 64)   12288       max_pooling2d_1[0][0]            \n",
            "__________________________________________________________________________________________________\n",
            "batch_normalization_8 (BatchNor (None, 35, 35, 64)   192         conv2d_8[0][0]                   \n",
            "__________________________________________________________________________________________________\n",
            "activation_8 (Activation)       (None, 35, 35, 64)   0           batch_normalization_8[0][0]      \n",
            "__________________________________________________________________________________________________\n",
            "conv2d_6 (Conv2D)               (None, 35, 35, 48)   9216        max_pooling2d_1[0][0]            \n",
            "__________________________________________________________________________________________________\n",
            "conv2d_9 (Conv2D)               (None, 35, 35, 96)   55296       activation_8[0][0]               \n",
            "__________________________________________________________________________________________________\n",
            "batch_normalization_6 (BatchNor (None, 35, 35, 48)   144         conv2d_6[0][0]                   \n",
            "__________________________________________________________________________________________________\n",
            "batch_normalization_9 (BatchNor (None, 35, 35, 96)   288         conv2d_9[0][0]                   \n",
            "__________________________________________________________________________________________________\n",
            "activation_6 (Activation)       (None, 35, 35, 48)   0           batch_normalization_6[0][0]      \n",
            "__________________________________________________________________________________________________\n",
            "activation_9 (Activation)       (None, 35, 35, 96)   0           batch_normalization_9[0][0]      \n",
            "__________________________________________________________________________________________________\n",
            "average_pooling2d (AveragePooli (None, 35, 35, 192)  0           max_pooling2d_1[0][0]            \n",
            "__________________________________________________________________________________________________\n",
            "conv2d_5 (Conv2D)               (None, 35, 35, 64)   12288       max_pooling2d_1[0][0]            \n",
            "__________________________________________________________________________________________________\n",
            "conv2d_7 (Conv2D)               (None, 35, 35, 64)   76800       activation_6[0][0]               \n",
            "__________________________________________________________________________________________________\n",
            "conv2d_10 (Conv2D)              (None, 35, 35, 96)   82944       activation_9[0][0]               \n",
            "__________________________________________________________________________________________________\n",
            "conv2d_11 (Conv2D)              (None, 35, 35, 32)   6144        average_pooling2d[0][0]          \n",
            "__________________________________________________________________________________________________\n",
            "batch_normalization_5 (BatchNor (None, 35, 35, 64)   192         conv2d_5[0][0]                   \n",
            "__________________________________________________________________________________________________\n",
            "batch_normalization_7 (BatchNor (None, 35, 35, 64)   192         conv2d_7[0][0]                   \n",
            "__________________________________________________________________________________________________\n",
            "batch_normalization_10 (BatchNo (None, 35, 35, 96)   288         conv2d_10[0][0]                  \n",
            "__________________________________________________________________________________________________\n",
            "batch_normalization_11 (BatchNo (None, 35, 35, 32)   96          conv2d_11[0][0]                  \n",
            "__________________________________________________________________________________________________\n",
            "activation_5 (Activation)       (None, 35, 35, 64)   0           batch_normalization_5[0][0]      \n",
            "__________________________________________________________________________________________________\n",
            "activation_7 (Activation)       (None, 35, 35, 64)   0           batch_normalization_7[0][0]      \n",
            "__________________________________________________________________________________________________\n",
            "activation_10 (Activation)      (None, 35, 35, 96)   0           batch_normalization_10[0][0]     \n",
            "__________________________________________________________________________________________________\n",
            "activation_11 (Activation)      (None, 35, 35, 32)   0           batch_normalization_11[0][0]     \n",
            "__________________________________________________________________________________________________\n",
            "mixed0 (Concatenate)            (None, 35, 35, 256)  0           activation_5[0][0]               \n",
            "                                                                 activation_7[0][0]               \n",
            "                                                                 activation_10[0][0]              \n",
            "                                                                 activation_11[0][0]              \n",
            "__________________________________________________________________________________________________\n",
            "conv2d_15 (Conv2D)              (None, 35, 35, 64)   16384       mixed0[0][0]                     \n",
            "__________________________________________________________________________________________________\n",
            "batch_normalization_15 (BatchNo (None, 35, 35, 64)   192         conv2d_15[0][0]                  \n",
            "__________________________________________________________________________________________________\n",
            "activation_15 (Activation)      (None, 35, 35, 64)   0           batch_normalization_15[0][0]     \n",
            "__________________________________________________________________________________________________\n",
            "conv2d_13 (Conv2D)              (None, 35, 35, 48)   12288       mixed0[0][0]                     \n",
            "__________________________________________________________________________________________________\n",
            "conv2d_16 (Conv2D)              (None, 35, 35, 96)   55296       activation_15[0][0]              \n",
            "__________________________________________________________________________________________________\n",
            "batch_normalization_13 (BatchNo (None, 35, 35, 48)   144         conv2d_13[0][0]                  \n",
            "__________________________________________________________________________________________________\n",
            "batch_normalization_16 (BatchNo (None, 35, 35, 96)   288         conv2d_16[0][0]                  \n",
            "__________________________________________________________________________________________________\n",
            "activation_13 (Activation)      (None, 35, 35, 48)   0           batch_normalization_13[0][0]     \n",
            "__________________________________________________________________________________________________\n",
            "activation_16 (Activation)      (None, 35, 35, 96)   0           batch_normalization_16[0][0]     \n",
            "__________________________________________________________________________________________________\n",
            "average_pooling2d_1 (AveragePoo (None, 35, 35, 256)  0           mixed0[0][0]                     \n",
            "__________________________________________________________________________________________________\n",
            "conv2d_12 (Conv2D)              (None, 35, 35, 64)   16384       mixed0[0][0]                     \n",
            "__________________________________________________________________________________________________\n",
            "conv2d_14 (Conv2D)              (None, 35, 35, 64)   76800       activation_13[0][0]              \n",
            "__________________________________________________________________________________________________\n",
            "conv2d_17 (Conv2D)              (None, 35, 35, 96)   82944       activation_16[0][0]              \n",
            "__________________________________________________________________________________________________\n",
            "conv2d_18 (Conv2D)              (None, 35, 35, 64)   16384       average_pooling2d_1[0][0]        \n",
            "__________________________________________________________________________________________________\n",
            "batch_normalization_12 (BatchNo (None, 35, 35, 64)   192         conv2d_12[0][0]                  \n",
            "__________________________________________________________________________________________________\n",
            "batch_normalization_14 (BatchNo (None, 35, 35, 64)   192         conv2d_14[0][0]                  \n",
            "__________________________________________________________________________________________________\n",
            "batch_normalization_17 (BatchNo (None, 35, 35, 96)   288         conv2d_17[0][0]                  \n",
            "__________________________________________________________________________________________________\n",
            "batch_normalization_18 (BatchNo (None, 35, 35, 64)   192         conv2d_18[0][0]                  \n",
            "__________________________________________________________________________________________________\n",
            "activation_12 (Activation)      (None, 35, 35, 64)   0           batch_normalization_12[0][0]     \n",
            "__________________________________________________________________________________________________\n",
            "activation_14 (Activation)      (None, 35, 35, 64)   0           batch_normalization_14[0][0]     \n",
            "__________________________________________________________________________________________________\n",
            "activation_17 (Activation)      (None, 35, 35, 96)   0           batch_normalization_17[0][0]     \n",
            "__________________________________________________________________________________________________\n",
            "activation_18 (Activation)      (None, 35, 35, 64)   0           batch_normalization_18[0][0]     \n",
            "__________________________________________________________________________________________________\n",
            "mixed1 (Concatenate)            (None, 35, 35, 288)  0           activation_12[0][0]              \n",
            "                                                                 activation_14[0][0]              \n",
            "                                                                 activation_17[0][0]              \n",
            "                                                                 activation_18[0][0]              \n",
            "__________________________________________________________________________________________________\n",
            "conv2d_22 (Conv2D)              (None, 35, 35, 64)   18432       mixed1[0][0]                     \n",
            "__________________________________________________________________________________________________\n",
            "batch_normalization_22 (BatchNo (None, 35, 35, 64)   192         conv2d_22[0][0]                  \n",
            "__________________________________________________________________________________________________\n",
            "activation_22 (Activation)      (None, 35, 35, 64)   0           batch_normalization_22[0][0]     \n",
            "__________________________________________________________________________________________________\n",
            "conv2d_20 (Conv2D)              (None, 35, 35, 48)   13824       mixed1[0][0]                     \n",
            "__________________________________________________________________________________________________\n",
            "conv2d_23 (Conv2D)              (None, 35, 35, 96)   55296       activation_22[0][0]              \n",
            "__________________________________________________________________________________________________\n",
            "batch_normalization_20 (BatchNo (None, 35, 35, 48)   144         conv2d_20[0][0]                  \n",
            "__________________________________________________________________________________________________\n",
            "batch_normalization_23 (BatchNo (None, 35, 35, 96)   288         conv2d_23[0][0]                  \n",
            "__________________________________________________________________________________________________\n",
            "activation_20 (Activation)      (None, 35, 35, 48)   0           batch_normalization_20[0][0]     \n",
            "__________________________________________________________________________________________________\n",
            "activation_23 (Activation)      (None, 35, 35, 96)   0           batch_normalization_23[0][0]     \n",
            "__________________________________________________________________________________________________\n",
            "average_pooling2d_2 (AveragePoo (None, 35, 35, 288)  0           mixed1[0][0]                     \n",
            "__________________________________________________________________________________________________\n",
            "conv2d_19 (Conv2D)              (None, 35, 35, 64)   18432       mixed1[0][0]                     \n",
            "__________________________________________________________________________________________________\n",
            "conv2d_21 (Conv2D)              (None, 35, 35, 64)   76800       activation_20[0][0]              \n",
            "__________________________________________________________________________________________________\n",
            "conv2d_24 (Conv2D)              (None, 35, 35, 96)   82944       activation_23[0][0]              \n",
            "__________________________________________________________________________________________________\n",
            "conv2d_25 (Conv2D)              (None, 35, 35, 64)   18432       average_pooling2d_2[0][0]        \n",
            "__________________________________________________________________________________________________\n",
            "batch_normalization_19 (BatchNo (None, 35, 35, 64)   192         conv2d_19[0][0]                  \n",
            "__________________________________________________________________________________________________\n",
            "batch_normalization_21 (BatchNo (None, 35, 35, 64)   192         conv2d_21[0][0]                  \n",
            "__________________________________________________________________________________________________\n",
            "batch_normalization_24 (BatchNo (None, 35, 35, 96)   288         conv2d_24[0][0]                  \n",
            "__________________________________________________________________________________________________\n",
            "batch_normalization_25 (BatchNo (None, 35, 35, 64)   192         conv2d_25[0][0]                  \n",
            "__________________________________________________________________________________________________\n",
            "activation_19 (Activation)      (None, 35, 35, 64)   0           batch_normalization_19[0][0]     \n",
            "__________________________________________________________________________________________________\n",
            "activation_21 (Activation)      (None, 35, 35, 64)   0           batch_normalization_21[0][0]     \n",
            "__________________________________________________________________________________________________\n",
            "activation_24 (Activation)      (None, 35, 35, 96)   0           batch_normalization_24[0][0]     \n",
            "__________________________________________________________________________________________________\n",
            "activation_25 (Activation)      (None, 35, 35, 64)   0           batch_normalization_25[0][0]     \n",
            "__________________________________________________________________________________________________\n",
            "mixed2 (Concatenate)            (None, 35, 35, 288)  0           activation_19[0][0]              \n",
            "                                                                 activation_21[0][0]              \n",
            "                                                                 activation_24[0][0]              \n",
            "                                                                 activation_25[0][0]              \n",
            "__________________________________________________________________________________________________\n",
            "conv2d_27 (Conv2D)              (None, 35, 35, 64)   18432       mixed2[0][0]                     \n",
            "__________________________________________________________________________________________________\n",
            "batch_normalization_27 (BatchNo (None, 35, 35, 64)   192         conv2d_27[0][0]                  \n",
            "__________________________________________________________________________________________________\n",
            "activation_27 (Activation)      (None, 35, 35, 64)   0           batch_normalization_27[0][0]     \n",
            "__________________________________________________________________________________________________\n",
            "conv2d_28 (Conv2D)              (None, 35, 35, 96)   55296       activation_27[0][0]              \n",
            "__________________________________________________________________________________________________\n",
            "batch_normalization_28 (BatchNo (None, 35, 35, 96)   288         conv2d_28[0][0]                  \n",
            "__________________________________________________________________________________________________\n",
            "activation_28 (Activation)      (None, 35, 35, 96)   0           batch_normalization_28[0][0]     \n",
            "__________________________________________________________________________________________________\n",
            "conv2d_26 (Conv2D)              (None, 17, 17, 384)  995328      mixed2[0][0]                     \n",
            "__________________________________________________________________________________________________\n",
            "conv2d_29 (Conv2D)              (None, 17, 17, 96)   82944       activation_28[0][0]              \n",
            "__________________________________________________________________________________________________\n",
            "batch_normalization_26 (BatchNo (None, 17, 17, 384)  1152        conv2d_26[0][0]                  \n",
            "__________________________________________________________________________________________________\n",
            "batch_normalization_29 (BatchNo (None, 17, 17, 96)   288         conv2d_29[0][0]                  \n",
            "__________________________________________________________________________________________________\n",
            "activation_26 (Activation)      (None, 17, 17, 384)  0           batch_normalization_26[0][0]     \n",
            "__________________________________________________________________________________________________\n",
            "activation_29 (Activation)      (None, 17, 17, 96)   0           batch_normalization_29[0][0]     \n",
            "__________________________________________________________________________________________________\n",
            "max_pooling2d_2 (MaxPooling2D)  (None, 17, 17, 288)  0           mixed2[0][0]                     \n",
            "__________________________________________________________________________________________________\n",
            "mixed3 (Concatenate)            (None, 17, 17, 768)  0           activation_26[0][0]              \n",
            "                                                                 activation_29[0][0]              \n",
            "                                                                 max_pooling2d_2[0][0]            \n",
            "__________________________________________________________________________________________________\n",
            "conv2d_34 (Conv2D)              (None, 17, 17, 128)  98304       mixed3[0][0]                     \n",
            "__________________________________________________________________________________________________\n",
            "batch_normalization_34 (BatchNo (None, 17, 17, 128)  384         conv2d_34[0][0]                  \n",
            "__________________________________________________________________________________________________\n",
            "activation_34 (Activation)      (None, 17, 17, 128)  0           batch_normalization_34[0][0]     \n",
            "__________________________________________________________________________________________________\n",
            "conv2d_35 (Conv2D)              (None, 17, 17, 128)  114688      activation_34[0][0]              \n",
            "__________________________________________________________________________________________________\n",
            "batch_normalization_35 (BatchNo (None, 17, 17, 128)  384         conv2d_35[0][0]                  \n",
            "__________________________________________________________________________________________________\n",
            "activation_35 (Activation)      (None, 17, 17, 128)  0           batch_normalization_35[0][0]     \n",
            "__________________________________________________________________________________________________\n",
            "conv2d_31 (Conv2D)              (None, 17, 17, 128)  98304       mixed3[0][0]                     \n",
            "__________________________________________________________________________________________________\n",
            "conv2d_36 (Conv2D)              (None, 17, 17, 128)  114688      activation_35[0][0]              \n",
            "__________________________________________________________________________________________________\n",
            "batch_normalization_31 (BatchNo (None, 17, 17, 128)  384         conv2d_31[0][0]                  \n",
            "__________________________________________________________________________________________________\n",
            "batch_normalization_36 (BatchNo (None, 17, 17, 128)  384         conv2d_36[0][0]                  \n",
            "__________________________________________________________________________________________________\n",
            "activation_31 (Activation)      (None, 17, 17, 128)  0           batch_normalization_31[0][0]     \n",
            "__________________________________________________________________________________________________\n",
            "activation_36 (Activation)      (None, 17, 17, 128)  0           batch_normalization_36[0][0]     \n",
            "__________________________________________________________________________________________________\n",
            "conv2d_32 (Conv2D)              (None, 17, 17, 128)  114688      activation_31[0][0]              \n",
            "__________________________________________________________________________________________________\n",
            "conv2d_37 (Conv2D)              (None, 17, 17, 128)  114688      activation_36[0][0]              \n",
            "__________________________________________________________________________________________________\n",
            "batch_normalization_32 (BatchNo (None, 17, 17, 128)  384         conv2d_32[0][0]                  \n",
            "__________________________________________________________________________________________________\n",
            "batch_normalization_37 (BatchNo (None, 17, 17, 128)  384         conv2d_37[0][0]                  \n",
            "__________________________________________________________________________________________________\n",
            "activation_32 (Activation)      (None, 17, 17, 128)  0           batch_normalization_32[0][0]     \n",
            "__________________________________________________________________________________________________\n",
            "activation_37 (Activation)      (None, 17, 17, 128)  0           batch_normalization_37[0][0]     \n",
            "__________________________________________________________________________________________________\n",
            "average_pooling2d_3 (AveragePoo (None, 17, 17, 768)  0           mixed3[0][0]                     \n",
            "__________________________________________________________________________________________________\n",
            "conv2d_30 (Conv2D)              (None, 17, 17, 192)  147456      mixed3[0][0]                     \n",
            "__________________________________________________________________________________________________\n",
            "conv2d_33 (Conv2D)              (None, 17, 17, 192)  172032      activation_32[0][0]              \n",
            "__________________________________________________________________________________________________\n",
            "conv2d_38 (Conv2D)              (None, 17, 17, 192)  172032      activation_37[0][0]              \n",
            "__________________________________________________________________________________________________\n",
            "conv2d_39 (Conv2D)              (None, 17, 17, 192)  147456      average_pooling2d_3[0][0]        \n",
            "__________________________________________________________________________________________________\n",
            "batch_normalization_30 (BatchNo (None, 17, 17, 192)  576         conv2d_30[0][0]                  \n",
            "__________________________________________________________________________________________________\n",
            "batch_normalization_33 (BatchNo (None, 17, 17, 192)  576         conv2d_33[0][0]                  \n",
            "__________________________________________________________________________________________________\n",
            "batch_normalization_38 (BatchNo (None, 17, 17, 192)  576         conv2d_38[0][0]                  \n",
            "__________________________________________________________________________________________________\n",
            "batch_normalization_39 (BatchNo (None, 17, 17, 192)  576         conv2d_39[0][0]                  \n",
            "__________________________________________________________________________________________________\n",
            "activation_30 (Activation)      (None, 17, 17, 192)  0           batch_normalization_30[0][0]     \n",
            "__________________________________________________________________________________________________\n",
            "activation_33 (Activation)      (None, 17, 17, 192)  0           batch_normalization_33[0][0]     \n",
            "__________________________________________________________________________________________________\n",
            "activation_38 (Activation)      (None, 17, 17, 192)  0           batch_normalization_38[0][0]     \n",
            "__________________________________________________________________________________________________\n",
            "activation_39 (Activation)      (None, 17, 17, 192)  0           batch_normalization_39[0][0]     \n",
            "__________________________________________________________________________________________________\n",
            "mixed4 (Concatenate)            (None, 17, 17, 768)  0           activation_30[0][0]              \n",
            "                                                                 activation_33[0][0]              \n",
            "                                                                 activation_38[0][0]              \n",
            "                                                                 activation_39[0][0]              \n",
            "__________________________________________________________________________________________________\n",
            "conv2d_44 (Conv2D)              (None, 17, 17, 160)  122880      mixed4[0][0]                     \n",
            "__________________________________________________________________________________________________\n",
            "batch_normalization_44 (BatchNo (None, 17, 17, 160)  480         conv2d_44[0][0]                  \n",
            "__________________________________________________________________________________________________\n",
            "activation_44 (Activation)      (None, 17, 17, 160)  0           batch_normalization_44[0][0]     \n",
            "__________________________________________________________________________________________________\n",
            "conv2d_45 (Conv2D)              (None, 17, 17, 160)  179200      activation_44[0][0]              \n",
            "__________________________________________________________________________________________________\n",
            "batch_normalization_45 (BatchNo (None, 17, 17, 160)  480         conv2d_45[0][0]                  \n",
            "__________________________________________________________________________________________________\n",
            "activation_45 (Activation)      (None, 17, 17, 160)  0           batch_normalization_45[0][0]     \n",
            "__________________________________________________________________________________________________\n",
            "conv2d_41 (Conv2D)              (None, 17, 17, 160)  122880      mixed4[0][0]                     \n",
            "__________________________________________________________________________________________________\n",
            "conv2d_46 (Conv2D)              (None, 17, 17, 160)  179200      activation_45[0][0]              \n",
            "__________________________________________________________________________________________________\n",
            "batch_normalization_41 (BatchNo (None, 17, 17, 160)  480         conv2d_41[0][0]                  \n",
            "__________________________________________________________________________________________________\n",
            "batch_normalization_46 (BatchNo (None, 17, 17, 160)  480         conv2d_46[0][0]                  \n",
            "__________________________________________________________________________________________________\n",
            "activation_41 (Activation)      (None, 17, 17, 160)  0           batch_normalization_41[0][0]     \n",
            "__________________________________________________________________________________________________\n",
            "activation_46 (Activation)      (None, 17, 17, 160)  0           batch_normalization_46[0][0]     \n",
            "__________________________________________________________________________________________________\n",
            "conv2d_42 (Conv2D)              (None, 17, 17, 160)  179200      activation_41[0][0]              \n",
            "__________________________________________________________________________________________________\n",
            "conv2d_47 (Conv2D)              (None, 17, 17, 160)  179200      activation_46[0][0]              \n",
            "__________________________________________________________________________________________________\n",
            "batch_normalization_42 (BatchNo (None, 17, 17, 160)  480         conv2d_42[0][0]                  \n",
            "__________________________________________________________________________________________________\n",
            "batch_normalization_47 (BatchNo (None, 17, 17, 160)  480         conv2d_47[0][0]                  \n",
            "__________________________________________________________________________________________________\n",
            "activation_42 (Activation)      (None, 17, 17, 160)  0           batch_normalization_42[0][0]     \n",
            "__________________________________________________________________________________________________\n",
            "activation_47 (Activation)      (None, 17, 17, 160)  0           batch_normalization_47[0][0]     \n",
            "__________________________________________________________________________________________________\n",
            "average_pooling2d_4 (AveragePoo (None, 17, 17, 768)  0           mixed4[0][0]                     \n",
            "__________________________________________________________________________________________________\n",
            "conv2d_40 (Conv2D)              (None, 17, 17, 192)  147456      mixed4[0][0]                     \n",
            "__________________________________________________________________________________________________\n",
            "conv2d_43 (Conv2D)              (None, 17, 17, 192)  215040      activation_42[0][0]              \n",
            "__________________________________________________________________________________________________\n",
            "conv2d_48 (Conv2D)              (None, 17, 17, 192)  215040      activation_47[0][0]              \n",
            "__________________________________________________________________________________________________\n",
            "conv2d_49 (Conv2D)              (None, 17, 17, 192)  147456      average_pooling2d_4[0][0]        \n",
            "__________________________________________________________________________________________________\n",
            "batch_normalization_40 (BatchNo (None, 17, 17, 192)  576         conv2d_40[0][0]                  \n",
            "__________________________________________________________________________________________________\n",
            "batch_normalization_43 (BatchNo (None, 17, 17, 192)  576         conv2d_43[0][0]                  \n",
            "__________________________________________________________________________________________________\n",
            "batch_normalization_48 (BatchNo (None, 17, 17, 192)  576         conv2d_48[0][0]                  \n",
            "__________________________________________________________________________________________________\n",
            "batch_normalization_49 (BatchNo (None, 17, 17, 192)  576         conv2d_49[0][0]                  \n",
            "__________________________________________________________________________________________________\n",
            "activation_40 (Activation)      (None, 17, 17, 192)  0           batch_normalization_40[0][0]     \n",
            "__________________________________________________________________________________________________\n",
            "activation_43 (Activation)      (None, 17, 17, 192)  0           batch_normalization_43[0][0]     \n",
            "__________________________________________________________________________________________________\n",
            "activation_48 (Activation)      (None, 17, 17, 192)  0           batch_normalization_48[0][0]     \n",
            "__________________________________________________________________________________________________\n",
            "activation_49 (Activation)      (None, 17, 17, 192)  0           batch_normalization_49[0][0]     \n",
            "__________________________________________________________________________________________________\n",
            "mixed5 (Concatenate)            (None, 17, 17, 768)  0           activation_40[0][0]              \n",
            "                                                                 activation_43[0][0]              \n",
            "                                                                 activation_48[0][0]              \n",
            "                                                                 activation_49[0][0]              \n",
            "__________________________________________________________________________________________________\n",
            "conv2d_54 (Conv2D)              (None, 17, 17, 160)  122880      mixed5[0][0]                     \n",
            "__________________________________________________________________________________________________\n",
            "batch_normalization_54 (BatchNo (None, 17, 17, 160)  480         conv2d_54[0][0]                  \n",
            "__________________________________________________________________________________________________\n",
            "activation_54 (Activation)      (None, 17, 17, 160)  0           batch_normalization_54[0][0]     \n",
            "__________________________________________________________________________________________________\n",
            "conv2d_55 (Conv2D)              (None, 17, 17, 160)  179200      activation_54[0][0]              \n",
            "__________________________________________________________________________________________________\n",
            "batch_normalization_55 (BatchNo (None, 17, 17, 160)  480         conv2d_55[0][0]                  \n",
            "__________________________________________________________________________________________________\n",
            "activation_55 (Activation)      (None, 17, 17, 160)  0           batch_normalization_55[0][0]     \n",
            "__________________________________________________________________________________________________\n",
            "conv2d_51 (Conv2D)              (None, 17, 17, 160)  122880      mixed5[0][0]                     \n",
            "__________________________________________________________________________________________________\n",
            "conv2d_56 (Conv2D)              (None, 17, 17, 160)  179200      activation_55[0][0]              \n",
            "__________________________________________________________________________________________________\n",
            "batch_normalization_51 (BatchNo (None, 17, 17, 160)  480         conv2d_51[0][0]                  \n",
            "__________________________________________________________________________________________________\n",
            "batch_normalization_56 (BatchNo (None, 17, 17, 160)  480         conv2d_56[0][0]                  \n",
            "__________________________________________________________________________________________________\n",
            "activation_51 (Activation)      (None, 17, 17, 160)  0           batch_normalization_51[0][0]     \n",
            "__________________________________________________________________________________________________\n",
            "activation_56 (Activation)      (None, 17, 17, 160)  0           batch_normalization_56[0][0]     \n",
            "__________________________________________________________________________________________________\n",
            "conv2d_52 (Conv2D)              (None, 17, 17, 160)  179200      activation_51[0][0]              \n",
            "__________________________________________________________________________________________________\n",
            "conv2d_57 (Conv2D)              (None, 17, 17, 160)  179200      activation_56[0][0]              \n",
            "__________________________________________________________________________________________________\n",
            "batch_normalization_52 (BatchNo (None, 17, 17, 160)  480         conv2d_52[0][0]                  \n",
            "__________________________________________________________________________________________________\n",
            "batch_normalization_57 (BatchNo (None, 17, 17, 160)  480         conv2d_57[0][0]                  \n",
            "__________________________________________________________________________________________________\n",
            "activation_52 (Activation)      (None, 17, 17, 160)  0           batch_normalization_52[0][0]     \n",
            "__________________________________________________________________________________________________\n",
            "activation_57 (Activation)      (None, 17, 17, 160)  0           batch_normalization_57[0][0]     \n",
            "__________________________________________________________________________________________________\n",
            "average_pooling2d_5 (AveragePoo (None, 17, 17, 768)  0           mixed5[0][0]                     \n",
            "__________________________________________________________________________________________________\n",
            "conv2d_50 (Conv2D)              (None, 17, 17, 192)  147456      mixed5[0][0]                     \n",
            "__________________________________________________________________________________________________\n",
            "conv2d_53 (Conv2D)              (None, 17, 17, 192)  215040      activation_52[0][0]              \n",
            "__________________________________________________________________________________________________\n",
            "conv2d_58 (Conv2D)              (None, 17, 17, 192)  215040      activation_57[0][0]              \n",
            "__________________________________________________________________________________________________\n",
            "conv2d_59 (Conv2D)              (None, 17, 17, 192)  147456      average_pooling2d_5[0][0]        \n",
            "__________________________________________________________________________________________________\n",
            "batch_normalization_50 (BatchNo (None, 17, 17, 192)  576         conv2d_50[0][0]                  \n",
            "__________________________________________________________________________________________________\n",
            "batch_normalization_53 (BatchNo (None, 17, 17, 192)  576         conv2d_53[0][0]                  \n",
            "__________________________________________________________________________________________________\n",
            "batch_normalization_58 (BatchNo (None, 17, 17, 192)  576         conv2d_58[0][0]                  \n",
            "__________________________________________________________________________________________________\n",
            "batch_normalization_59 (BatchNo (None, 17, 17, 192)  576         conv2d_59[0][0]                  \n",
            "__________________________________________________________________________________________________\n",
            "activation_50 (Activation)      (None, 17, 17, 192)  0           batch_normalization_50[0][0]     \n",
            "__________________________________________________________________________________________________\n",
            "activation_53 (Activation)      (None, 17, 17, 192)  0           batch_normalization_53[0][0]     \n",
            "__________________________________________________________________________________________________\n",
            "activation_58 (Activation)      (None, 17, 17, 192)  0           batch_normalization_58[0][0]     \n",
            "__________________________________________________________________________________________________\n",
            "activation_59 (Activation)      (None, 17, 17, 192)  0           batch_normalization_59[0][0]     \n",
            "__________________________________________________________________________________________________\n",
            "mixed6 (Concatenate)            (None, 17, 17, 768)  0           activation_50[0][0]              \n",
            "                                                                 activation_53[0][0]              \n",
            "                                                                 activation_58[0][0]              \n",
            "                                                                 activation_59[0][0]              \n",
            "__________________________________________________________________________________________________\n",
            "conv2d_64 (Conv2D)              (None, 17, 17, 192)  147456      mixed6[0][0]                     \n",
            "__________________________________________________________________________________________________\n",
            "batch_normalization_64 (BatchNo (None, 17, 17, 192)  576         conv2d_64[0][0]                  \n",
            "__________________________________________________________________________________________________\n",
            "activation_64 (Activation)      (None, 17, 17, 192)  0           batch_normalization_64[0][0]     \n",
            "__________________________________________________________________________________________________\n",
            "conv2d_65 (Conv2D)              (None, 17, 17, 192)  258048      activation_64[0][0]              \n",
            "__________________________________________________________________________________________________\n",
            "batch_normalization_65 (BatchNo (None, 17, 17, 192)  576         conv2d_65[0][0]                  \n",
            "__________________________________________________________________________________________________\n",
            "activation_65 (Activation)      (None, 17, 17, 192)  0           batch_normalization_65[0][0]     \n",
            "__________________________________________________________________________________________________\n",
            "conv2d_61 (Conv2D)              (None, 17, 17, 192)  147456      mixed6[0][0]                     \n",
            "__________________________________________________________________________________________________\n",
            "conv2d_66 (Conv2D)              (None, 17, 17, 192)  258048      activation_65[0][0]              \n",
            "__________________________________________________________________________________________________\n",
            "batch_normalization_61 (BatchNo (None, 17, 17, 192)  576         conv2d_61[0][0]                  \n",
            "__________________________________________________________________________________________________\n",
            "batch_normalization_66 (BatchNo (None, 17, 17, 192)  576         conv2d_66[0][0]                  \n",
            "__________________________________________________________________________________________________\n",
            "activation_61 (Activation)      (None, 17, 17, 192)  0           batch_normalization_61[0][0]     \n",
            "__________________________________________________________________________________________________\n",
            "activation_66 (Activation)      (None, 17, 17, 192)  0           batch_normalization_66[0][0]     \n",
            "__________________________________________________________________________________________________\n",
            "conv2d_62 (Conv2D)              (None, 17, 17, 192)  258048      activation_61[0][0]              \n",
            "__________________________________________________________________________________________________\n",
            "conv2d_67 (Conv2D)              (None, 17, 17, 192)  258048      activation_66[0][0]              \n",
            "__________________________________________________________________________________________________\n",
            "batch_normalization_62 (BatchNo (None, 17, 17, 192)  576         conv2d_62[0][0]                  \n",
            "__________________________________________________________________________________________________\n",
            "batch_normalization_67 (BatchNo (None, 17, 17, 192)  576         conv2d_67[0][0]                  \n",
            "__________________________________________________________________________________________________\n",
            "activation_62 (Activation)      (None, 17, 17, 192)  0           batch_normalization_62[0][0]     \n",
            "__________________________________________________________________________________________________\n",
            "activation_67 (Activation)      (None, 17, 17, 192)  0           batch_normalization_67[0][0]     \n",
            "__________________________________________________________________________________________________\n",
            "average_pooling2d_6 (AveragePoo (None, 17, 17, 768)  0           mixed6[0][0]                     \n",
            "__________________________________________________________________________________________________\n",
            "conv2d_60 (Conv2D)              (None, 17, 17, 192)  147456      mixed6[0][0]                     \n",
            "__________________________________________________________________________________________________\n",
            "conv2d_63 (Conv2D)              (None, 17, 17, 192)  258048      activation_62[0][0]              \n",
            "__________________________________________________________________________________________________\n",
            "conv2d_68 (Conv2D)              (None, 17, 17, 192)  258048      activation_67[0][0]              \n",
            "__________________________________________________________________________________________________\n",
            "conv2d_69 (Conv2D)              (None, 17, 17, 192)  147456      average_pooling2d_6[0][0]        \n",
            "__________________________________________________________________________________________________\n",
            "batch_normalization_60 (BatchNo (None, 17, 17, 192)  576         conv2d_60[0][0]                  \n",
            "__________________________________________________________________________________________________\n",
            "batch_normalization_63 (BatchNo (None, 17, 17, 192)  576         conv2d_63[0][0]                  \n",
            "__________________________________________________________________________________________________\n",
            "batch_normalization_68 (BatchNo (None, 17, 17, 192)  576         conv2d_68[0][0]                  \n",
            "__________________________________________________________________________________________________\n",
            "batch_normalization_69 (BatchNo (None, 17, 17, 192)  576         conv2d_69[0][0]                  \n",
            "__________________________________________________________________________________________________\n",
            "activation_60 (Activation)      (None, 17, 17, 192)  0           batch_normalization_60[0][0]     \n",
            "__________________________________________________________________________________________________\n",
            "activation_63 (Activation)      (None, 17, 17, 192)  0           batch_normalization_63[0][0]     \n",
            "__________________________________________________________________________________________________\n",
            "activation_68 (Activation)      (None, 17, 17, 192)  0           batch_normalization_68[0][0]     \n",
            "__________________________________________________________________________________________________\n",
            "activation_69 (Activation)      (None, 17, 17, 192)  0           batch_normalization_69[0][0]     \n",
            "__________________________________________________________________________________________________\n",
            "mixed7 (Concatenate)            (None, 17, 17, 768)  0           activation_60[0][0]              \n",
            "                                                                 activation_63[0][0]              \n",
            "                                                                 activation_68[0][0]              \n",
            "                                                                 activation_69[0][0]              \n",
            "__________________________________________________________________________________________________\n",
            "conv2d_72 (Conv2D)              (None, 17, 17, 192)  147456      mixed7[0][0]                     \n",
            "__________________________________________________________________________________________________\n",
            "batch_normalization_72 (BatchNo (None, 17, 17, 192)  576         conv2d_72[0][0]                  \n",
            "__________________________________________________________________________________________________\n",
            "activation_72 (Activation)      (None, 17, 17, 192)  0           batch_normalization_72[0][0]     \n",
            "__________________________________________________________________________________________________\n",
            "conv2d_73 (Conv2D)              (None, 17, 17, 192)  258048      activation_72[0][0]              \n",
            "__________________________________________________________________________________________________\n",
            "batch_normalization_73 (BatchNo (None, 17, 17, 192)  576         conv2d_73[0][0]                  \n",
            "__________________________________________________________________________________________________\n",
            "activation_73 (Activation)      (None, 17, 17, 192)  0           batch_normalization_73[0][0]     \n",
            "__________________________________________________________________________________________________\n",
            "conv2d_70 (Conv2D)              (None, 17, 17, 192)  147456      mixed7[0][0]                     \n",
            "__________________________________________________________________________________________________\n",
            "conv2d_74 (Conv2D)              (None, 17, 17, 192)  258048      activation_73[0][0]              \n",
            "__________________________________________________________________________________________________\n",
            "batch_normalization_70 (BatchNo (None, 17, 17, 192)  576         conv2d_70[0][0]                  \n",
            "__________________________________________________________________________________________________\n",
            "batch_normalization_74 (BatchNo (None, 17, 17, 192)  576         conv2d_74[0][0]                  \n",
            "__________________________________________________________________________________________________\n",
            "activation_70 (Activation)      (None, 17, 17, 192)  0           batch_normalization_70[0][0]     \n",
            "__________________________________________________________________________________________________\n",
            "activation_74 (Activation)      (None, 17, 17, 192)  0           batch_normalization_74[0][0]     \n",
            "__________________________________________________________________________________________________\n",
            "conv2d_71 (Conv2D)              (None, 8, 8, 320)    552960      activation_70[0][0]              \n",
            "__________________________________________________________________________________________________\n",
            "conv2d_75 (Conv2D)              (None, 8, 8, 192)    331776      activation_74[0][0]              \n",
            "__________________________________________________________________________________________________\n",
            "batch_normalization_71 (BatchNo (None, 8, 8, 320)    960         conv2d_71[0][0]                  \n",
            "__________________________________________________________________________________________________\n",
            "batch_normalization_75 (BatchNo (None, 8, 8, 192)    576         conv2d_75[0][0]                  \n",
            "__________________________________________________________________________________________________\n",
            "activation_71 (Activation)      (None, 8, 8, 320)    0           batch_normalization_71[0][0]     \n",
            "__________________________________________________________________________________________________\n",
            "activation_75 (Activation)      (None, 8, 8, 192)    0           batch_normalization_75[0][0]     \n",
            "__________________________________________________________________________________________________\n",
            "max_pooling2d_3 (MaxPooling2D)  (None, 8, 8, 768)    0           mixed7[0][0]                     \n",
            "__________________________________________________________________________________________________\n",
            "mixed8 (Concatenate)            (None, 8, 8, 1280)   0           activation_71[0][0]              \n",
            "                                                                 activation_75[0][0]              \n",
            "                                                                 max_pooling2d_3[0][0]            \n",
            "__________________________________________________________________________________________________\n",
            "conv2d_80 (Conv2D)              (None, 8, 8, 448)    573440      mixed8[0][0]                     \n",
            "__________________________________________________________________________________________________\n",
            "batch_normalization_80 (BatchNo (None, 8, 8, 448)    1344        conv2d_80[0][0]                  \n",
            "__________________________________________________________________________________________________\n",
            "activation_80 (Activation)      (None, 8, 8, 448)    0           batch_normalization_80[0][0]     \n",
            "__________________________________________________________________________________________________\n",
            "conv2d_77 (Conv2D)              (None, 8, 8, 384)    491520      mixed8[0][0]                     \n",
            "__________________________________________________________________________________________________\n",
            "conv2d_81 (Conv2D)              (None, 8, 8, 384)    1548288     activation_80[0][0]              \n",
            "__________________________________________________________________________________________________\n",
            "batch_normalization_77 (BatchNo (None, 8, 8, 384)    1152        conv2d_77[0][0]                  \n",
            "__________________________________________________________________________________________________\n",
            "batch_normalization_81 (BatchNo (None, 8, 8, 384)    1152        conv2d_81[0][0]                  \n",
            "__________________________________________________________________________________________________\n",
            "activation_77 (Activation)      (None, 8, 8, 384)    0           batch_normalization_77[0][0]     \n",
            "__________________________________________________________________________________________________\n",
            "activation_81 (Activation)      (None, 8, 8, 384)    0           batch_normalization_81[0][0]     \n",
            "__________________________________________________________________________________________________\n",
            "conv2d_78 (Conv2D)              (None, 8, 8, 384)    442368      activation_77[0][0]              \n",
            "__________________________________________________________________________________________________\n",
            "conv2d_79 (Conv2D)              (None, 8, 8, 384)    442368      activation_77[0][0]              \n",
            "__________________________________________________________________________________________________\n",
            "conv2d_82 (Conv2D)              (None, 8, 8, 384)    442368      activation_81[0][0]              \n",
            "__________________________________________________________________________________________________\n",
            "conv2d_83 (Conv2D)              (None, 8, 8, 384)    442368      activation_81[0][0]              \n",
            "__________________________________________________________________________________________________\n",
            "average_pooling2d_7 (AveragePoo (None, 8, 8, 1280)   0           mixed8[0][0]                     \n",
            "__________________________________________________________________________________________________\n",
            "conv2d_76 (Conv2D)              (None, 8, 8, 320)    409600      mixed8[0][0]                     \n",
            "__________________________________________________________________________________________________\n",
            "batch_normalization_78 (BatchNo (None, 8, 8, 384)    1152        conv2d_78[0][0]                  \n",
            "__________________________________________________________________________________________________\n",
            "batch_normalization_79 (BatchNo (None, 8, 8, 384)    1152        conv2d_79[0][0]                  \n",
            "__________________________________________________________________________________________________\n",
            "batch_normalization_82 (BatchNo (None, 8, 8, 384)    1152        conv2d_82[0][0]                  \n",
            "__________________________________________________________________________________________________\n",
            "batch_normalization_83 (BatchNo (None, 8, 8, 384)    1152        conv2d_83[0][0]                  \n",
            "__________________________________________________________________________________________________\n",
            "conv2d_84 (Conv2D)              (None, 8, 8, 192)    245760      average_pooling2d_7[0][0]        \n",
            "__________________________________________________________________________________________________\n",
            "batch_normalization_76 (BatchNo (None, 8, 8, 320)    960         conv2d_76[0][0]                  \n",
            "__________________________________________________________________________________________________\n",
            "activation_78 (Activation)      (None, 8, 8, 384)    0           batch_normalization_78[0][0]     \n",
            "__________________________________________________________________________________________________\n",
            "activation_79 (Activation)      (None, 8, 8, 384)    0           batch_normalization_79[0][0]     \n",
            "__________________________________________________________________________________________________\n",
            "activation_82 (Activation)      (None, 8, 8, 384)    0           batch_normalization_82[0][0]     \n",
            "__________________________________________________________________________________________________\n",
            "activation_83 (Activation)      (None, 8, 8, 384)    0           batch_normalization_83[0][0]     \n",
            "__________________________________________________________________________________________________\n",
            "batch_normalization_84 (BatchNo (None, 8, 8, 192)    576         conv2d_84[0][0]                  \n",
            "__________________________________________________________________________________________________\n",
            "activation_76 (Activation)      (None, 8, 8, 320)    0           batch_normalization_76[0][0]     \n",
            "__________________________________________________________________________________________________\n",
            "mixed9_0 (Concatenate)          (None, 8, 8, 768)    0           activation_78[0][0]              \n",
            "                                                                 activation_79[0][0]              \n",
            "__________________________________________________________________________________________________\n",
            "concatenate (Concatenate)       (None, 8, 8, 768)    0           activation_82[0][0]              \n",
            "                                                                 activation_83[0][0]              \n",
            "__________________________________________________________________________________________________\n",
            "activation_84 (Activation)      (None, 8, 8, 192)    0           batch_normalization_84[0][0]     \n",
            "__________________________________________________________________________________________________\n",
            "mixed9 (Concatenate)            (None, 8, 8, 2048)   0           activation_76[0][0]              \n",
            "                                                                 mixed9_0[0][0]                   \n",
            "                                                                 concatenate[0][0]                \n",
            "                                                                 activation_84[0][0]              \n",
            "__________________________________________________________________________________________________\n",
            "conv2d_89 (Conv2D)              (None, 8, 8, 448)    917504      mixed9[0][0]                     \n",
            "__________________________________________________________________________________________________\n",
            "batch_normalization_89 (BatchNo (None, 8, 8, 448)    1344        conv2d_89[0][0]                  \n",
            "__________________________________________________________________________________________________\n",
            "activation_89 (Activation)      (None, 8, 8, 448)    0           batch_normalization_89[0][0]     \n",
            "__________________________________________________________________________________________________\n",
            "conv2d_86 (Conv2D)              (None, 8, 8, 384)    786432      mixed9[0][0]                     \n",
            "__________________________________________________________________________________________________\n",
            "conv2d_90 (Conv2D)              (None, 8, 8, 384)    1548288     activation_89[0][0]              \n",
            "__________________________________________________________________________________________________\n",
            "batch_normalization_86 (BatchNo (None, 8, 8, 384)    1152        conv2d_86[0][0]                  \n",
            "__________________________________________________________________________________________________\n",
            "batch_normalization_90 (BatchNo (None, 8, 8, 384)    1152        conv2d_90[0][0]                  \n",
            "__________________________________________________________________________________________________\n",
            "activation_86 (Activation)      (None, 8, 8, 384)    0           batch_normalization_86[0][0]     \n",
            "__________________________________________________________________________________________________\n",
            "activation_90 (Activation)      (None, 8, 8, 384)    0           batch_normalization_90[0][0]     \n",
            "__________________________________________________________________________________________________\n",
            "conv2d_87 (Conv2D)              (None, 8, 8, 384)    442368      activation_86[0][0]              \n",
            "__________________________________________________________________________________________________\n",
            "conv2d_88 (Conv2D)              (None, 8, 8, 384)    442368      activation_86[0][0]              \n",
            "__________________________________________________________________________________________________\n",
            "conv2d_91 (Conv2D)              (None, 8, 8, 384)    442368      activation_90[0][0]              \n",
            "__________________________________________________________________________________________________\n",
            "conv2d_92 (Conv2D)              (None, 8, 8, 384)    442368      activation_90[0][0]              \n",
            "__________________________________________________________________________________________________\n",
            "average_pooling2d_8 (AveragePoo (None, 8, 8, 2048)   0           mixed9[0][0]                     \n",
            "__________________________________________________________________________________________________\n",
            "conv2d_85 (Conv2D)              (None, 8, 8, 320)    655360      mixed9[0][0]                     \n",
            "__________________________________________________________________________________________________\n",
            "batch_normalization_87 (BatchNo (None, 8, 8, 384)    1152        conv2d_87[0][0]                  \n",
            "__________________________________________________________________________________________________\n",
            "batch_normalization_88 (BatchNo (None, 8, 8, 384)    1152        conv2d_88[0][0]                  \n",
            "__________________________________________________________________________________________________\n",
            "batch_normalization_91 (BatchNo (None, 8, 8, 384)    1152        conv2d_91[0][0]                  \n",
            "__________________________________________________________________________________________________\n",
            "batch_normalization_92 (BatchNo (None, 8, 8, 384)    1152        conv2d_92[0][0]                  \n",
            "__________________________________________________________________________________________________\n",
            "conv2d_93 (Conv2D)              (None, 8, 8, 192)    393216      average_pooling2d_8[0][0]        \n",
            "__________________________________________________________________________________________________\n",
            "batch_normalization_85 (BatchNo (None, 8, 8, 320)    960         conv2d_85[0][0]                  \n",
            "__________________________________________________________________________________________________\n",
            "activation_87 (Activation)      (None, 8, 8, 384)    0           batch_normalization_87[0][0]     \n",
            "__________________________________________________________________________________________________\n",
            "activation_88 (Activation)      (None, 8, 8, 384)    0           batch_normalization_88[0][0]     \n",
            "__________________________________________________________________________________________________\n",
            "activation_91 (Activation)      (None, 8, 8, 384)    0           batch_normalization_91[0][0]     \n",
            "__________________________________________________________________________________________________\n",
            "activation_92 (Activation)      (None, 8, 8, 384)    0           batch_normalization_92[0][0]     \n",
            "__________________________________________________________________________________________________\n",
            "batch_normalization_93 (BatchNo (None, 8, 8, 192)    576         conv2d_93[0][0]                  \n",
            "__________________________________________________________________________________________________\n",
            "activation_85 (Activation)      (None, 8, 8, 320)    0           batch_normalization_85[0][0]     \n",
            "__________________________________________________________________________________________________\n",
            "mixed9_1 (Concatenate)          (None, 8, 8, 768)    0           activation_87[0][0]              \n",
            "                                                                 activation_88[0][0]              \n",
            "__________________________________________________________________________________________________\n",
            "concatenate_1 (Concatenate)     (None, 8, 8, 768)    0           activation_91[0][0]              \n",
            "                                                                 activation_92[0][0]              \n",
            "__________________________________________________________________________________________________\n",
            "activation_93 (Activation)      (None, 8, 8, 192)    0           batch_normalization_93[0][0]     \n",
            "__________________________________________________________________________________________________\n",
            "mixed10 (Concatenate)           (None, 8, 8, 2048)   0           activation_85[0][0]              \n",
            "                                                                 mixed9_1[0][0]                   \n",
            "                                                                 concatenate_1[0][0]              \n",
            "                                                                 activation_93[0][0]              \n",
            "__________________________________________________________________________________________________\n",
            "global_average_pooling2d (Globa (None, 2048)         0           mixed10[0][0]                    \n",
            "__________________________________________________________________________________________________\n",
            "dense (Dense)                   (None, 512)          1049088     global_average_pooling2d[0][0]   \n",
            "__________________________________________________________________________________________________\n",
            "dense_1 (Dense)                 (None, 256)          131328      dense[0][0]                      \n",
            "__________________________________________________________________________________________________\n",
            "dense_2 (Dense)                 (None, 3)            771         dense_1[0][0]                    \n",
            "==================================================================================================\n",
            "Total params: 22,983,971\n",
            "Trainable params: 1,181,187\n",
            "Non-trainable params: 21,802,784\n",
            "__________________________________________________________________________________________________\n"
          ],
          "name": "stdout"
        }
      ]
    },
    {
      "cell_type": "code",
      "metadata": {
        "id": "sPsLZBQugn5w"
      },
      "source": [
        "model1.compile(loss='categorical_crossentropy',optimizer='adam',metrics=[\"accuracy\"]) # modeli derleme (katmanları eğitilemez olarak ayarladıktan sonra  yapılmalıdır)"
      ],
      "execution_count": null,
      "outputs": []
    },
    {
      "cell_type": "code",
      "metadata": {
        "colab": {
          "base_uri": "https://localhost:8080/"
        },
        "id": "CLQHHHxZfyL1",
        "outputId": "c7ef7538-a0af-4a85-99fd-c55b0334283f"
      },
      "source": [
        "history=model1.fit(\n",
        "    trainGen,\n",
        "    steps_per_epoch=trainGen.samples//32,\n",
        "    validation_data=valGen,\n",
        "    epochs=10,\n",
        "    validation_steps=valGen.samples//32\n",
        ")"
      ],
      "execution_count": null,
      "outputs": [
        {
          "output_type": "stream",
          "text": [
            "Epoch 1/10\n",
            "147/147 [==============================] - 1221s 8s/step - loss: 0.7665 - accuracy: 0.6843 - val_loss: 0.5701 - val_accuracy: 0.7812\n",
            "Epoch 2/10\n",
            "147/147 [==============================] - 502s 3s/step - loss: 0.5504 - accuracy: 0.7570 - val_loss: 0.5365 - val_accuracy: 0.7930\n",
            "Epoch 3/10\n",
            "147/147 [==============================] - 503s 3s/step - loss: 0.5227 - accuracy: 0.7638 - val_loss: 0.4477 - val_accuracy: 0.8379\n",
            "Epoch 4/10\n",
            "147/147 [==============================] - 503s 3s/step - loss: 0.4993 - accuracy: 0.7820 - val_loss: 0.4249 - val_accuracy: 0.8457\n",
            "Epoch 5/10\n",
            "147/147 [==============================] - 503s 3s/step - loss: 0.4844 - accuracy: 0.7859 - val_loss: 0.4312 - val_accuracy: 0.8203\n",
            "Epoch 6/10\n",
            "147/147 [==============================] - 503s 3s/step - loss: 0.4566 - accuracy: 0.8008 - val_loss: 0.4829 - val_accuracy: 0.8164\n",
            "Epoch 7/10\n",
            "147/147 [==============================] - 505s 3s/step - loss: 0.4562 - accuracy: 0.8008 - val_loss: 0.4742 - val_accuracy: 0.8203\n",
            "Epoch 8/10\n",
            "147/147 [==============================] - 505s 3s/step - loss: 0.4515 - accuracy: 0.8047 - val_loss: 0.4974 - val_accuracy: 0.8125\n",
            "Epoch 9/10\n",
            "147/147 [==============================] - 504s 3s/step - loss: 0.4220 - accuracy: 0.8087 - val_loss: 0.4847 - val_accuracy: 0.8242\n",
            "Epoch 10/10\n",
            "147/147 [==============================] - 503s 3s/step - loss: 0.4198 - accuracy: 0.8200 - val_loss: 0.4431 - val_accuracy: 0.8320\n"
          ],
          "name": "stdout"
        }
      ]
    },
    {
      "cell_type": "code",
      "metadata": {
        "colab": {
          "base_uri": "https://localhost:8080/",
          "height": 728
        },
        "id": "ZMyLssHTkszi",
        "outputId": "f2b288d2-df07-429f-e82e-1a59a9d12fbb"
      },
      "source": [
        "plt.figure(figsize=(10,10)) # train accuracy ve validation accuracy ile train loss ve validation loss  grafiği çizdirildi.\n",
        "plt.subplot(211)\n",
        "plt.title(\"Accuracy\")\n",
        "plt.plot(history.history[\"accuracy\"],color='r',label='train')\n",
        "plt.plot(history.history[\"val_accuracy\"],color='b',label='validation')\n",
        "plt.legend(loc='best')\n",
        "\n",
        "plt.subplot(212)\n",
        "plt.title(\"Loss\")\n",
        "plt.plot(history.history[\"loss\"],color='r',label='train')\n",
        "plt.plot(history.history[\"val_loss\"],color='b',label='validation')\n",
        "plt.legend(loc='best')\n",
        "plt.tight_layout()\n",
        "plt.show()"
      ],
      "execution_count": null,
      "outputs": [
        {
          "output_type": "display_data",
          "data": {
            "image/png": "[encoded data removed]",
            "text/plain": [
              "<Figure size 720x720 with 2 Axes>"
            ]
          },
          "metadata": {
            "tags": [],
            "needs_background": "light"
          }
        }
      ]
    },
    {
      "cell_type": "code",
      "metadata": {
        "colab": {
          "base_uri": "https://localhost:8080/"
        },
        "id": "CGu6-XHYk3GT",
        "outputId": "6531aadb-5af7-48fd-dc69-b928b6709ebe"
      },
      "source": [
        "print(\"TEST:\") # model test verisiyle test edildi.\n",
        "score=model1.evaluate(testGen)\n",
        "print(\"Test Loss\",score[0])\n",
        "print(\"Test Accuracy\",score[1]*100)"
      ],
      "execution_count": null,
      "outputs": [
        {
          "output_type": "stream",
          "text": [
            "TEST:\n",
            "624/624 [==============================] - 140s 224ms/step - loss: 1.1469 - accuracy: 0.6747\n",
            "Test Loss 1.1469308137893677\n",
            "Test Accuracy 67.46794581413269\n"
          ],
          "name": "stdout"
        }
      ]
    },
    {
      "cell_type": "code",
      "metadata": {
        "id": "KttiJypzlZ_q"
      },
      "source": [
        "def plot_confusion_matrix4(cm, classes, normalize=True, title='Confusion matrix', cmap=plt.cm.Blues): # confusion matris işlemleri yapıldı.\n",
        "\n",
        "    plt.figure(figsize=(10,10))\n",
        "\n",
        "    plt.imshow(cm, interpolation='nearest', cmap=cmap)\n",
        "\n",
        "    plt.title(title)\n",
        "\n",
        "    plt.colorbar()\n",
        "\n",
        "    tick_marks = np.arange(len(classes))\n",
        "\n",
        "    plt.xticks(tick_marks, classes, rotation=45)\n",
        "\n",
        "    plt.yticks(tick_marks, classes)\n",
        "\n",
        "    if normalize:\n",
        "\n",
        "        cm = np.around(cm, decimals=2)\n",
        "\n",
        "        cm[np.isnan(cm)] = 0.0\n",
        "\n",
        "        print(\"Normalized confusion matrix\")\n",
        "\n",
        "    else:\n",
        "\n",
        "        print('Confusion matrix, without normalization')\n",
        "\n",
        "    thresh = cm.max() / 2.\n",
        "\n",
        "    for i, j in itertools.product(range(cm.shape[0]), range(cm.shape[1])):\n",
        "\n",
        "        plt.text(j, i, cm[i, j],\n",
        "\n",
        "                 horizontalalignment=\"center\",\n",
        "\n",
        "                 color=\"white\" if cm[i, j] > thresh else \"black\")\n",
        "\n",
        "    plt.tight_layout()\n",
        "\n",
        "    plt.ylabel('True label')\n",
        "\n",
        "    plt.xlabel('Predicted label')"
      ],
      "execution_count": null,
      "outputs": []
    },
    {
      "cell_type": "code",
      "metadata": {
        "colab": {
          "base_uri": "https://localhost:8080/",
          "height": 782
        },
        "id": "vWe2BwZMlucE",
        "outputId": "93fc8e33-4fd6-48d3-ae72-aaa4540e9178"
      },
      "source": [
        "target_names = [] # karmaşıklık matrisi oluşturuldu.\n",
        "\n",
        "for key in trainGen.class_indices:\n",
        "\n",
        "    target_names.append(key)\n",
        "\n",
        "Y_pred = model1.predict_generator(testGen)\n",
        "\n",
        "y_pred = np.argmax(Y_pred, axis=1)\n",
        "\n",
        "print('Confusion Matrix')\n",
        "\n",
        "cm = confusion_matrix(testGen.classes, y_pred)\n",
        "\n",
        "plot_confusion_matrix4(cm, target_names, title='Confusion Matrix')"
      ],
      "execution_count": null,
      "outputs": [
        {
          "output_type": "stream",
          "text": [
            "/usr/local/lib/python3.7/dist-packages/tensorflow/python/keras/engine/training.py:2001: UserWarning: `Model.predict_generator` is deprecated and will be removed in a future version. Please use `Model.predict`, which supports generators.\n",
            "  warnings.warn('`Model.predict_generator` is deprecated and '\n"
          ],
          "name": "stderr"
        },
        {
          "output_type": "stream",
          "text": [
            "Confusion Matrix\n",
            "Normalized confusion matrix\n"
          ],
          "name": "stdout"
        },
        {
          "output_type": "display_data",
          "data": {
            "image/png": "[encoded data removed]",
            "text/plain": [
              "<Figure size 720x720 with 2 Axes>"
            ]
          },
          "metadata": {
            "tags": [],
            "needs_background": "light"
          }
        }
      ]
    },
    {
      "cell_type": "code",
      "metadata": {
        "colab": {
          "base_uri": "https://localhost:8080/"
        },
        "id": "z95EJ3VGmHPy",
        "outputId": "763a8e75-fb2e-4028-f157-e453b22a17df"
      },
      "source": [
        "from sklearn.metrics import confusion_matrix\n",
        "from sklearn.metrics import classification_report\n",
        "confusion = confusion_matrix(testGen.classes, y_pred)\n",
        "print('Confusion Matrix\\n')\n",
        "print(confusion)\n",
        "\n",
        "\n",
        "print('Classification Report') # accuracy ,f1 score , recall vb değerler hesaplandı.\n",
        "target_names = ['bakteriyel_pneumonia', 'normal','viral_pneumonia']\n",
        "print(classification_report(testGen.classes, y_pred, target_names=target_names))"
      ],
      "execution_count": null,
      "outputs": [
        {
          "output_type": "stream",
          "text": [
            "Confusion Matrix\n",
            "\n",
            "[[123  37  82]\n",
            " [117  38  79]\n",
            " [ 72  28  48]]\n",
            "Classification Report\n",
            "                      precision    recall  f1-score   support\n",
            "\n",
            "bakteriyel_pneumonia       0.39      0.51      0.44       242\n",
            "              normal       0.37      0.16      0.23       234\n",
            "     viral_pneumonia       0.23      0.32      0.27       148\n",
            "\n",
            "            accuracy                           0.33       624\n",
            "           macro avg       0.33      0.33      0.31       624\n",
            "        weighted avg       0.35      0.33      0.32       624\n",
            "\n"
          ],
          "name": "stdout"
        }
      ]
    }
  ]
}